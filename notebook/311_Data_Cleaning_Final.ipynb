{
  "nbformat": 4,
  "nbformat_minor": 0,
  "metadata": {
    "colab": {
      "name": "311_Data_Cleaning.ipynb",
      "provenance": [],
      "collapsed_sections": [
        "8EFmNAOUKlqh",
        "PEW6ezGO2gXS",
        "0d9gwFRR2puO",
        "-6JosGOS9fhi",
        "hb31c2g4SH7V",
        "6icgUMf3OJWL",
        "zvgfsI7aShXc",
        "SPhTKUQzVWVs",
        "eTOCdO91VOwH",
        "QWWlYKA_OoWE",
        "JSToMby83AX6",
        "SLl9cCUYO0a6",
        "Tgnk14mgPO-b",
        "PU0OCVSePoqW",
        "bWUBjr443T6-",
        "2fdg4goz3XTb",
        "0c9UL96c6vYS",
        "n0zcWG1q3j_K",
        "QZpnFDBW4WUA",
        "Jy8CKkQz67xF",
        "uwF8KYj48bRM",
        "4WWkI7rVA4cI",
        "-lK-uWeJDVdQ",
        "Co7UiTqZDwF8"
      ]
    },
    "kernelspec": {
      "name": "python3",
      "display_name": "Python 3"
    },
    "language_info": {
      "name": "python"
    }
  },
  "cells": [
    {
      "cell_type": "markdown",
      "source": [
        "#Data Cleaning On 311 Service Requests from 2010 to present"
      ],
      "metadata": {
        "id": "4Gws-480JjsH"
      }
    },
    {
      "cell_type": "markdown",
      "source": [
        "Note : Recommended to Run on google colab(https://colab.research.google.com/) for reproducibility"
      ],
      "metadata": {
        "id": "t0nPJlwcbbCc"
      }
    },
    {
      "cell_type": "markdown",
      "source": [
        "###Installing packages"
      ],
      "metadata": {
        "id": "8EFmNAOUKlqh"
      }
    },
    {
      "cell_type": "code",
      "execution_count": null,
      "metadata": {
        "id": "q2GPnxm2vKod",
        "colab": {
          "base_uri": "https://localhost:8080/"
        },
        "outputId": "1186bf95-fafa-4c75-f766-906f108a3aec"
      },
      "outputs": [
        {
          "output_type": "stream",
          "name": "stdout",
          "text": [
            "Requirement already satisfied: pyspark in /usr/local/lib/python3.7/dist-packages (3.2.0)\n",
            "Requirement already satisfied: py4j==0.10.9.2 in /usr/local/lib/python3.7/dist-packages (from pyspark) (0.10.9.2)\n"
          ]
        }
      ],
      "source": [
        "!pip install pyspark"
      ]
    },
    {
      "cell_type": "code",
      "source": [
        "!pip install openclean[full]"
      ],
      "metadata": {
        "id": "GSBNkDhqyASj",
        "colab": {
          "base_uri": "https://localhost:8080/"
        },
        "outputId": "44c5fb6f-58ed-43f1-b5c6-6c9f6506cef4"
      },
      "execution_count": null,
      "outputs": [
        {
          "output_type": "stream",
          "name": "stdout",
          "text": [
            "Requirement already satisfied: openclean[full] in /usr/local/lib/python3.7/dist-packages (0.2.1)\n",
            "Requirement already satisfied: openclean-core==0.4.1 in /usr/local/lib/python3.7/dist-packages (from openclean[full]) (0.4.1)\n",
            "Requirement already satisfied: openclean-notebook==0.1.7 in /usr/local/lib/python3.7/dist-packages (from openclean[full]) (0.1.7)\n",
            "Requirement already satisfied: docker in /usr/local/lib/python3.7/dist-packages (from openclean[full]) (5.0.3)\n",
            "Requirement already satisfied: openclean-metanome==0.2.0 in /usr/local/lib/python3.7/dist-packages (from openclean[full]) (0.2.0)\n",
            "Requirement already satisfied: openclean-pattern==0.0.1 in /usr/local/lib/python3.7/dist-packages (from openclean[full]) (0.0.1)\n",
            "Requirement already satisfied: openclean-geo==0.1.0 in /usr/local/lib/python3.7/dist-packages (from openclean[full]) (0.1.0)\n",
            "Requirement already satisfied: scipy in /usr/local/lib/python3.7/dist-packages (from openclean-core==0.4.1->openclean[full]) (1.4.1)\n",
            "Requirement already satisfied: future in /usr/local/lib/python3.7/dist-packages (from openclean-core==0.4.1->openclean[full]) (0.16.0)\n",
            "Requirement already satisfied: dill in /usr/local/lib/python3.7/dist-packages (from openclean-core==0.4.1->openclean[full]) (0.3.4)\n",
            "Requirement already satisfied: jsonschema>=3.2.0 in /usr/local/lib/python3.7/dist-packages (from openclean-core==0.4.1->openclean[full]) (3.2.0)\n",
            "Requirement already satisfied: appdirs>=1.4.4 in /usr/local/lib/python3.7/dist-packages (from openclean-core==0.4.1->openclean[full]) (1.4.4)\n",
            "Requirement already satisfied: jellyfish in /usr/local/lib/python3.7/dist-packages (from openclean-core==0.4.1->openclean[full]) (0.8.9)\n",
            "Requirement already satisfied: scikit-learn in /usr/local/lib/python3.7/dist-packages (from openclean-core==0.4.1->openclean[full]) (0.23.2)\n",
            "Requirement already satisfied: refdata>=0.2.0 in /usr/local/lib/python3.7/dist-packages (from openclean-core==0.4.1->openclean[full]) (0.2.0)\n",
            "Requirement already satisfied: requests in /usr/local/lib/python3.7/dist-packages (from openclean-core==0.4.1->openclean[full]) (2.23.0)\n",
            "Requirement already satisfied: flowserv-core>=0.8.0 in /usr/local/lib/python3.7/dist-packages (from openclean-core==0.4.1->openclean[full]) (0.9.2)\n",
            "Requirement already satisfied: histore>=0.4.0 in /usr/local/lib/python3.7/dist-packages (from openclean-core==0.4.1->openclean[full]) (0.4.1)\n",
            "Requirement already satisfied: python-dateutil in /usr/local/lib/python3.7/dist-packages (from openclean-core==0.4.1->openclean[full]) (2.8.2)\n",
            "Requirement already satisfied: pandas>=1.0.0 in /usr/local/lib/python3.7/dist-packages (from openclean-core==0.4.1->openclean[full]) (1.1.5)\n",
            "Requirement already satisfied: Shapely>=1.7.1 in /usr/local/lib/python3.7/dist-packages (from openclean-geo==0.1.0->openclean[full]) (1.8.0)\n",
            "Requirement already satisfied: datamart-profiler==0.9 in /usr/local/lib/python3.7/dist-packages (from openclean-notebook==0.1.7->openclean[full]) (0.9)\n",
            "Requirement already satisfied: numpy in /usr/local/lib/python3.7/dist-packages (from datamart-profiler==0.9->openclean-notebook==0.1.7->openclean[full]) (1.19.5)\n",
            "Requirement already satisfied: prometheus-client in /usr/local/lib/python3.7/dist-packages (from datamart-profiler==0.9->openclean-notebook==0.1.7->openclean[full]) (0.12.0)\n",
            "Requirement already satisfied: datamart-geo==0.2.1 in /usr/local/lib/python3.7/dist-packages (from datamart-profiler==0.9->openclean-notebook==0.1.7->openclean[full]) (0.2.1)\n",
            "Requirement already satisfied: regex in /usr/local/lib/python3.7/dist-packages (from datamart-profiler==0.9->openclean-notebook==0.1.7->openclean[full]) (2019.12.20)\n",
            "Requirement already satisfied: importlib-metadata in /usr/local/lib/python3.7/dist-packages (from jsonschema>=3.2.0->openclean-core==0.4.1->openclean[full]) (4.8.2)\n",
            "Requirement already satisfied: setuptools in /usr/local/lib/python3.7/dist-packages (from jsonschema>=3.2.0->openclean-core==0.4.1->openclean[full]) (57.4.0)\n",
            "Requirement already satisfied: pyrsistent>=0.14.0 in /usr/local/lib/python3.7/dist-packages (from jsonschema>=3.2.0->openclean-core==0.4.1->openclean[full]) (0.18.0)\n",
            "Requirement already satisfied: attrs>=17.4.0 in /usr/local/lib/python3.7/dist-packages (from jsonschema>=3.2.0->openclean-core==0.4.1->openclean[full]) (21.2.0)\n",
            "Requirement already satisfied: six>=1.11.0 in /usr/local/lib/python3.7/dist-packages (from jsonschema>=3.2.0->openclean-core==0.4.1->openclean[full]) (1.15.0)\n",
            "Requirement already satisfied: scikit-bio in /usr/local/lib/python3.7/dist-packages (from openclean-pattern==0.0.1->openclean[full]) (0.5.6)\n",
            "Requirement already satisfied: pygtrie==2.3.3 in /usr/local/lib/python3.7/dist-packages (from openclean-pattern==0.0.1->openclean[full]) (2.3.3)\n",
            "Requirement already satisfied: pyyaml>=5.1 in /usr/local/lib/python3.7/dist-packages (from flowserv-core>=0.8.0->openclean-core==0.4.1->openclean[full]) (5.4.1)\n",
            "Requirement already satisfied: pyyaml-include in /usr/local/lib/python3.7/dist-packages (from flowserv-core>=0.8.0->openclean-core==0.4.1->openclean[full]) (1.2.post2)\n",
            "Requirement already satisfied: gitpython in /usr/local/lib/python3.7/dist-packages (from flowserv-core>=0.8.0->openclean-core==0.4.1->openclean[full]) (3.1.24)\n",
            "Requirement already satisfied: Click in /usr/local/lib/python3.7/dist-packages (from flowserv-core>=0.8.0->openclean-core==0.4.1->openclean[full]) (7.1.2)\n",
            "Requirement already satisfied: SQLAlchemy>=1.3.18 in /usr/local/lib/python3.7/dist-packages (from flowserv-core>=0.8.0->openclean-core==0.4.1->openclean[full]) (1.4.27)\n",
            "Requirement already satisfied: paramiko in /usr/local/lib/python3.7/dist-packages (from flowserv-core>=0.8.0->openclean-core==0.4.1->openclean[full]) (2.8.1)\n",
            "Requirement already satisfied: passlib in /usr/local/lib/python3.7/dist-packages (from flowserv-core>=0.8.0->openclean-core==0.4.1->openclean[full]) (1.7.4)\n",
            "Requirement already satisfied: psutil in /usr/local/lib/python3.7/dist-packages (from histore>=0.4.0->openclean-core==0.4.1->openclean[full]) (5.4.8)\n",
            "Requirement already satisfied: pytz>=2017.2 in /usr/local/lib/python3.7/dist-packages (from pandas>=1.0.0->openclean-core==0.4.1->openclean[full]) (2018.9)\n",
            "Requirement already satisfied: datasize>=1.0.0 in /usr/local/lib/python3.7/dist-packages (from refdata>=0.2.0->openclean-core==0.4.1->openclean[full]) (1.0.0)\n",
            "Requirement already satisfied: pooch>=1.3.0 in /usr/local/lib/python3.7/dist-packages (from refdata>=0.2.0->openclean-core==0.4.1->openclean[full]) (1.5.2)\n",
            "Requirement already satisfied: tableprint in /usr/local/lib/python3.7/dist-packages (from refdata>=0.2.0->openclean-core==0.4.1->openclean[full]) (0.9.1)\n",
            "Requirement already satisfied: packaging in /usr/local/lib/python3.7/dist-packages (from pooch>=1.3.0->refdata>=0.2.0->openclean-core==0.4.1->openclean[full]) (21.3)\n",
            "Requirement already satisfied: joblib>=0.11 in /usr/local/lib/python3.7/dist-packages (from scikit-learn->openclean-core==0.4.1->openclean[full]) (1.1.0)\n",
            "Requirement already satisfied: threadpoolctl>=2.0.0 in /usr/local/lib/python3.7/dist-packages (from scikit-learn->openclean-core==0.4.1->openclean[full]) (3.0.0)\n",
            "Requirement already satisfied: greenlet!=0.4.17 in /usr/local/lib/python3.7/dist-packages (from SQLAlchemy>=1.3.18->flowserv-core>=0.8.0->openclean-core==0.4.1->openclean[full]) (1.1.2)\n",
            "Requirement already satisfied: websocket-client>=0.32.0 in /usr/local/lib/python3.7/dist-packages (from docker->openclean[full]) (1.2.3)\n",
            "Requirement already satisfied: chardet<4,>=3.0.2 in /usr/local/lib/python3.7/dist-packages (from requests->openclean-core==0.4.1->openclean[full]) (3.0.4)\n",
            "Requirement already satisfied: urllib3!=1.25.0,!=1.25.1,<1.26,>=1.21.1 in /usr/local/lib/python3.7/dist-packages (from requests->openclean-core==0.4.1->openclean[full]) (1.24.3)\n",
            "Requirement already satisfied: certifi>=2017.4.17 in /usr/local/lib/python3.7/dist-packages (from requests->openclean-core==0.4.1->openclean[full]) (2021.10.8)\n",
            "Requirement already satisfied: idna<3,>=2.5 in /usr/local/lib/python3.7/dist-packages (from requests->openclean-core==0.4.1->openclean[full]) (2.10)\n",
            "Requirement already satisfied: gitdb<5,>=4.0.1 in /usr/local/lib/python3.7/dist-packages (from gitpython->flowserv-core>=0.8.0->openclean-core==0.4.1->openclean[full]) (4.0.9)\n",
            "Requirement already satisfied: typing-extensions>=3.7.4.3 in /usr/local/lib/python3.7/dist-packages (from gitpython->flowserv-core>=0.8.0->openclean-core==0.4.1->openclean[full]) (3.10.0.2)\n",
            "Requirement already satisfied: smmap<6,>=3.0.1 in /usr/local/lib/python3.7/dist-packages (from gitdb<5,>=4.0.1->gitpython->flowserv-core>=0.8.0->openclean-core==0.4.1->openclean[full]) (5.0.0)\n",
            "Requirement already satisfied: zipp>=0.5 in /usr/local/lib/python3.7/dist-packages (from importlib-metadata->jsonschema>=3.2.0->openclean-core==0.4.1->openclean[full]) (3.6.0)\n",
            "Requirement already satisfied: pyparsing!=3.0.5,>=2.0.2 in /usr/local/lib/python3.7/dist-packages (from packaging->pooch>=1.3.0->refdata>=0.2.0->openclean-core==0.4.1->openclean[full]) (3.0.6)\n",
            "Requirement already satisfied: bcrypt>=3.1.3 in /usr/local/lib/python3.7/dist-packages (from paramiko->flowserv-core>=0.8.0->openclean-core==0.4.1->openclean[full]) (3.2.0)\n",
            "Requirement already satisfied: pynacl>=1.0.1 in /usr/local/lib/python3.7/dist-packages (from paramiko->flowserv-core>=0.8.0->openclean-core==0.4.1->openclean[full]) (1.4.0)\n",
            "Requirement already satisfied: cryptography>=2.5 in /usr/local/lib/python3.7/dist-packages (from paramiko->flowserv-core>=0.8.0->openclean-core==0.4.1->openclean[full]) (36.0.0)\n",
            "Requirement already satisfied: cffi>=1.1 in /usr/local/lib/python3.7/dist-packages (from bcrypt>=3.1.3->paramiko->flowserv-core>=0.8.0->openclean-core==0.4.1->openclean[full]) (1.15.0)\n",
            "Requirement already satisfied: pycparser in /usr/local/lib/python3.7/dist-packages (from cffi>=1.1->bcrypt>=3.1.3->paramiko->flowserv-core>=0.8.0->openclean-core==0.4.1->openclean[full]) (2.21)\n",
            "Requirement already satisfied: decorator>=3.4.2 in /usr/local/lib/python3.7/dist-packages (from scikit-bio->openclean-pattern==0.0.1->openclean[full]) (4.4.2)\n",
            "Requirement already satisfied: hdmedians>=0.13 in /usr/local/lib/python3.7/dist-packages (from scikit-bio->openclean-pattern==0.0.1->openclean[full]) (0.14.2)\n",
            "Requirement already satisfied: matplotlib>=1.4.3 in /usr/local/lib/python3.7/dist-packages (from scikit-bio->openclean-pattern==0.0.1->openclean[full]) (3.2.2)\n",
            "Requirement already satisfied: CacheControl>=0.11.5 in /usr/local/lib/python3.7/dist-packages (from scikit-bio->openclean-pattern==0.0.1->openclean[full]) (0.12.10)\n",
            "Requirement already satisfied: IPython>=3.2.0 in /usr/local/lib/python3.7/dist-packages (from scikit-bio->openclean-pattern==0.0.1->openclean[full]) (5.5.0)\n",
            "Requirement already satisfied: lockfile>=0.10.2 in /usr/local/lib/python3.7/dist-packages (from scikit-bio->openclean-pattern==0.0.1->openclean[full]) (0.12.2)\n",
            "Requirement already satisfied: natsort>=4.0.3 in /usr/local/lib/python3.7/dist-packages (from scikit-bio->openclean-pattern==0.0.1->openclean[full]) (5.5.0)\n",
            "Requirement already satisfied: msgpack>=0.5.2 in /usr/local/lib/python3.7/dist-packages (from CacheControl>=0.11.5->scikit-bio->openclean-pattern==0.0.1->openclean[full]) (1.0.3)\n",
            "Requirement already satisfied: Cython>=0.23 in /usr/local/lib/python3.7/dist-packages (from hdmedians>=0.13->scikit-bio->openclean-pattern==0.0.1->openclean[full]) (0.29.24)\n",
            "Requirement already satisfied: pygments in /usr/local/lib/python3.7/dist-packages (from IPython>=3.2.0->scikit-bio->openclean-pattern==0.0.1->openclean[full]) (2.6.1)\n",
            "Requirement already satisfied: pickleshare in /usr/local/lib/python3.7/dist-packages (from IPython>=3.2.0->scikit-bio->openclean-pattern==0.0.1->openclean[full]) (0.7.5)\n",
            "Requirement already satisfied: prompt-toolkit<2.0.0,>=1.0.4 in /usr/local/lib/python3.7/dist-packages (from IPython>=3.2.0->scikit-bio->openclean-pattern==0.0.1->openclean[full]) (1.0.18)\n",
            "Requirement already satisfied: traitlets>=4.2 in /usr/local/lib/python3.7/dist-packages (from IPython>=3.2.0->scikit-bio->openclean-pattern==0.0.1->openclean[full]) (5.1.1)\n",
            "Requirement already satisfied: simplegeneric>0.8 in /usr/local/lib/python3.7/dist-packages (from IPython>=3.2.0->scikit-bio->openclean-pattern==0.0.1->openclean[full]) (0.8.1)\n",
            "Requirement already satisfied: pexpect in /usr/local/lib/python3.7/dist-packages (from IPython>=3.2.0->scikit-bio->openclean-pattern==0.0.1->openclean[full]) (4.8.0)\n",
            "Requirement already satisfied: kiwisolver>=1.0.1 in /usr/local/lib/python3.7/dist-packages (from matplotlib>=1.4.3->scikit-bio->openclean-pattern==0.0.1->openclean[full]) (1.3.2)\n",
            "Requirement already satisfied: cycler>=0.10 in /usr/local/lib/python3.7/dist-packages (from matplotlib>=1.4.3->scikit-bio->openclean-pattern==0.0.1->openclean[full]) (0.11.0)\n",
            "Requirement already satisfied: wcwidth in /usr/local/lib/python3.7/dist-packages (from prompt-toolkit<2.0.0,>=1.0.4->IPython>=3.2.0->scikit-bio->openclean-pattern==0.0.1->openclean[full]) (0.2.5)\n",
            "Requirement already satisfied: ptyprocess>=0.5 in /usr/local/lib/python3.7/dist-packages (from pexpect->IPython>=3.2.0->scikit-bio->openclean-pattern==0.0.1->openclean[full]) (0.7.0)\n"
          ]
        }
      ]
    },
    {
      "cell_type": "code",
      "source": [
        "!pip install pandas"
      ],
      "metadata": {
        "colab": {
          "base_uri": "https://localhost:8080/"
        },
        "id": "6hoK9z_cEeup",
        "outputId": "7683cca5-1e55-4d7b-a89b-675d939159f5"
      },
      "execution_count": null,
      "outputs": [
        {
          "output_type": "stream",
          "name": "stdout",
          "text": [
            "Requirement already satisfied: pandas in /usr/local/lib/python3.7/dist-packages (1.1.5)\n",
            "Requirement already satisfied: numpy>=1.15.4 in /usr/local/lib/python3.7/dist-packages (from pandas) (1.19.5)\n",
            "Requirement already satisfied: python-dateutil>=2.7.3 in /usr/local/lib/python3.7/dist-packages (from pandas) (2.8.2)\n",
            "Requirement already satisfied: pytz>=2017.2 in /usr/local/lib/python3.7/dist-packages (from pandas) (2018.9)\n",
            "Requirement already satisfied: six>=1.5 in /usr/local/lib/python3.7/dist-packages (from python-dateutil>=2.7.3->pandas) (1.15.0)\n"
          ]
        }
      ]
    },
    {
      "cell_type": "code",
      "source": [
        "!pip install numpy"
      ],
      "metadata": {
        "colab": {
          "base_uri": "https://localhost:8080/"
        },
        "id": "H5yVYey6EhfO",
        "outputId": "0a7f3782-be94-496d-87aa-792dcb2578d6"
      },
      "execution_count": null,
      "outputs": [
        {
          "output_type": "stream",
          "name": "stdout",
          "text": [
            "Requirement already satisfied: numpy in /usr/local/lib/python3.7/dist-packages (1.19.5)\n"
          ]
        }
      ]
    },
    {
      "cell_type": "code",
      "source": [
        "!pip install humanfriendly"
      ],
      "metadata": {
        "id": "dfo4k6MQTeCa",
        "colab": {
          "base_uri": "https://localhost:8080/"
        },
        "outputId": "4a63d560-a210-446e-db22-c2c1790765c5"
      },
      "execution_count": null,
      "outputs": [
        {
          "output_type": "stream",
          "name": "stdout",
          "text": [
            "Requirement already satisfied: humanfriendly in /usr/local/lib/python3.7/dist-packages (10.0)\n"
          ]
        }
      ]
    },
    {
      "cell_type": "code",
      "source": [
        "!pip install -U -q PyDrive"
      ],
      "metadata": {
        "id": "-PIm9JFS8tpg"
      },
      "execution_count": null,
      "outputs": []
    },
    {
      "cell_type": "markdown",
      "source": [
        "###Loading Libraries"
      ],
      "metadata": {
        "id": "PEW6ezGO2gXS"
      }
    },
    {
      "cell_type": "code",
      "source": [
        "# Loading Libraries\n",
        "import pandas as pd\n",
        "import numpy as np\n",
        "from openclean.profiling.dataset import dataset_profile\n",
        "from openclean.cluster.key import KeyCollision\n",
        "from openclean.function.value.key.fingerprint import Fingerprint\n",
        "from openclean.operator.map.violations import fd_violations\n",
        "from openclean.operator.collector.count import distinct\n",
        "from openclean.function.eval.logic import And\n",
        "from openclean.function.value.phonetic import Soundex, soundex\n",
        "from openclean.pipeline import stream\n",
        "from openclean.data.load import dataset\n",
        "from openclean.cluster.key import KeyCollision\n",
        "from openclean_geo.address.usstreet import USStreetNameKey\n",
        "from openclean_geo.address.usstreet import StandardizeUSStreetName\n",
        "from pyspark.sql import SparkSession\n",
        "from pyspark.sql.functions import lit,col,when,udf,asc,regexp_replace,desc,countDistinct\n",
        "from pyspark import SparkContext\n",
        "from pyspark.sql.types import *\n",
        "from pyspark.ml.feature import *\n",
        "from openclean.profiling.column import DefaultColumnProfiler\n",
        "from openclean.operator.map.violations import fd_violations\n",
        "from openclean.operator.collector.count import distinct\n",
        "import gzip\n",
        "import humanfriendly\n",
        "import os\n",
        "import csv\n",
        "from openclean.data.source.socrata import Socrata\n",
        "from openclean.cluster.knn import knn_clusters, knn_collision_clusters\n",
        "from openclean.function.similarity.base import SimilarityConstraint\n",
        "from openclean.function.similarity.text import LevenshteinDistance\n",
        "from openclean.function.value.threshold import GreaterThan\n",
        "from openclean.function.value.null import is_empty\n",
        "from openclean.operator.transform.update import update\n",
        "from openclean.function.eval.base import Col, Eval\n",
        "from openclean.function.eval.logic import And\n",
        "from openclean.function.value.phonetic import Soundex, soundex\n",
        "from pydrive.auth import GoogleAuth\n",
        "from pydrive.drive import GoogleDrive\n",
        "from google.colab import auth\n",
        "from oauth2client.client import GoogleCredentials"
      ],
      "metadata": {
        "id": "kd3wF_M4vQAz"
      },
      "execution_count": null,
      "outputs": []
    },
    {
      "cell_type": "markdown",
      "source": [
        "### Loading dataset "
      ],
      "metadata": {
        "id": "0d9gwFRR2puO"
      }
    },
    {
      "cell_type": "markdown",
      "source": [
        "Since Our dataset is of size 15 GB with 27.3 Million rows and 41 Column , We are having two approaches below to load dataset.\n",
        "\n",
        "1. Sample Dataset - 750 MB and 1.3 Million rows ( Use this for Reproducibility testing and faster analysis)\n",
        "2. Socrata Api    - Complete Dataset ( Uncomment code  only if running on spark cluster)"
      ],
      "metadata": {
        "id": "0w0Efp8nQunK"
      }
    },
    {
      "cell_type": "markdown",
      "source": [
        "#### Downloading reference data files from Google Drive"
      ],
      "metadata": {
        "id": "-6JosGOS9fhi"
      }
    },
    {
      "cell_type": "markdown",
      "source": [
        "Accept the google sdk T&C from any google account and paste the link and press enter."
      ],
      "metadata": {
        "id": "on9oi_Ki_r4Z"
      }
    },
    {
      "cell_type": "code",
      "source": [
        "auth.authenticate_user()\n",
        "gauth = GoogleAuth()\n",
        "gauth.credentials = GoogleCredentials.get_application_default()\n",
        "drive = GoogleDrive(gauth)"
      ],
      "metadata": {
        "id": "xBUYblJo78S7"
      },
      "execution_count": null,
      "outputs": []
    },
    {
      "cell_type": "code",
      "source": [
        "fileDownloaded = drive.CreateFile({'id':'1OMPb63gnxV3JRWNLeCWDbe1uB8l4_bBY'})\n",
        "fileDownloaded.GetContentFile('nyc_zip_borough.csv')"
      ],
      "metadata": {
        "id": "GsVKLIdH8ZMs"
      },
      "execution_count": null,
      "outputs": []
    },
    {
      "cell_type": "code",
      "source": [
        "fileDownloaded = drive.CreateFile({'id':'1OMwBZPIM_Wy0n3QZzgA904TnX5Vv6Rq-'})\n",
        "fileDownloaded.GetContentFile('Sampled_Data.csv')"
      ],
      "metadata": {
        "id": "h4bArHgA8EFx"
      },
      "execution_count": null,
      "outputs": []
    },
    {
      "cell_type": "markdown",
      "source": [
        "#### Sample Dataset Loading"
      ],
      "metadata": {
        "id": "hb31c2g4SH7V"
      }
    },
    {
      "cell_type": "markdown",
      "source": [
        "######Creating Spark Dataframe "
      ],
      "metadata": {
        "id": "6icgUMf3OJWL"
      }
    },
    {
      "cell_type": "code",
      "source": [
        "spark = SparkSession.builder.appName(\"Project\").getOrCreate()\n",
        "sc = spark.sparkContext"
      ],
      "metadata": {
        "id": "b9-HOVEWvrwg"
      },
      "execution_count": null,
      "outputs": []
    },
    {
      "cell_type": "code",
      "source": [
        "sc"
      ],
      "metadata": {
        "id": "g_Z-n9ceyFm3",
        "colab": {
          "base_uri": "https://localhost:8080/"
        },
        "outputId": "a4045372-78b4-4084-87af-1ea3bdf74802"
      },
      "execution_count": null,
      "outputs": [
        {
          "output_type": "execute_result",
          "data": {
            "text/html": [
              "\n",
              "        <div>\n",
              "            <p><b>SparkContext</b></p>\n",
              "\n",
              "            <p><a href=\"http://d192f13b094a:4040\">Spark UI</a></p>\n",
              "\n",
              "            <dl>\n",
              "              <dt>Version</dt>\n",
              "                <dd><code>v3.2.0</code></dd>\n",
              "              <dt>Master</dt>\n",
              "                <dd><code>local[*]</code></dd>\n",
              "              <dt>AppName</dt>\n",
              "                <dd><code>Project</code></dd>\n",
              "            </dl>\n",
              "        </div>\n",
              "        "
            ],
            "text/plain": [
              "<SparkContext master=local[*] appName=Project>"
            ]
          },
          "metadata": {},
          "execution_count": 35
        }
      ]
    },
    {
      "cell_type": "code",
      "source": [
        "df_data = spark.read.format(\"csv\") \\\n",
        ".option(\"header\", \"true\") \\\n",
        ".option(\"infer_schema\",\"true\")\\\n",
        ".option(\"first_row_is_header\",\"true\")\\\n",
        ".load(\"Sampled_Data.csv\")\n",
        "\n",
        "df_data.show()"
      ],
      "metadata": {
        "id": "vnYGSG75yR5P",
        "colab": {
          "base_uri": "https://localhost:8080/"
        },
        "outputId": "3c08656e-60e4-4fa1-ff18-5056adcfe5ea"
      },
      "execution_count": null,
      "outputs": [
        {
          "output_type": "stream",
          "name": "stdout",
          "text": [
            "+--------+----------+--------------------+--------------------+------+--------------------+--------------------+--------------------+--------------------+------------+--------------------+-------------------+-----------------+---------------+---------------------+---------------------+------------+-------------------+--------+-------------+-------+--------------------+----------------------+------------------------------+--------------------+------------+-------------+--------------------------+--------------------------+----------------------+------------------+-------------+------------+--------------------+---------------------+-------------------+------------------------+---------+----------------------+------------------+------------------+--------------------+\n",
            "|     _c0|Unique Key|        Created Date|         Closed Date|Agency|         Agency Name|      Complaint Type|          Descriptor|       Location Type|Incident Zip|    Incident Address|        Street Name|   Cross Street 1| Cross Street 2|Intersection Street 1|Intersection Street 2|Address Type|               City|Landmark|Facility Type| Status|            Due Date|Resolution Description|Resolution Action Updated Date|     Community Board|         BBL|      Borough|X Coordinate (State Plane)|Y Coordinate (State Plane)|Open Data Channel Type|Park Facility Name| Park Borough|Vehicle Type|Taxi Company Borough|Taxi Pick Up Location|Bridge Highway Name|Bridge Highway Direction|Road Ramp|Bridge Highway Segment|          Latitude|         Longitude|            Location|\n",
            "+--------+----------+--------------------+--------------------+------+--------------------+--------------------+--------------------+--------------------+------------+--------------------+-------------------+-----------------+---------------+---------------------+---------------------+------------+-------------------+--------+-------------+-------+--------------------+----------------------+------------------------------+--------------------+------------+-------------+--------------------------+--------------------------+----------------------+------------------+-------------+------------+--------------------+---------------------+-------------------+------------------------+---------+----------------------+------------------+------------------+--------------------+\n",
            "| 1161152|  31247536|08/05/2015 06:35:...|08/19/2015 09:09:...|   DPR|Department of Par...|Root/Sewer/Sidewa...|Sidewalk Consulta...|              Street|     11360.0|    214-09 23 AVENUE|          23 AVENUE|   BELL BOULEVARD|     215 STREET|                 null|                 null|     ADDRESS|            BAYSIDE|    null|         null| Closed|09/04/2015 06:35:...|  The agency has ma...|          08/19/2015 08:58:...|           07 QUEENS|4059500008.0|       QUEENS|                 1046185.0|                  224448.0|                 PHONE|       Unspecified|       QUEENS|        null|                null|                 null|               null|                    null|     null|                  null|40.782517127277416|-73.77635733957257|(40.7825171272774...|\n",
            "|19331004|  49902206|03/01/2021 11:22:...|03/02/2021 05:31:...|   HPD|Department of Hou...|      HEAT/HOT WATER|      APARTMENT ONLY|RESIDENTIAL BUILDING|     11691.0|51-24 BEACH CHANN...|BEACH CHANNEL DRIVE|             null|           null|                 null|                 null|     ADDRESS|       Far Rockaway|    null|         null| Closed|                null|  The Department of...|          03/02/2021 12:00:...|           14 QUEENS|4160010002.0|       QUEENS|                 1044756.0|                  156219.0|                ONLINE|       Unspecified|       QUEENS|        null|                null|                 null|               null|                    null|     null|                  null| 40.59525476424622|-73.78213009462443|(40.5952547642462...|\n",
            "|20420950|  26123456|08/14/2013 03:51:...|08/21/2013 08:00:...|   DOF|Refunds and Adjus...|DOF Property - Pa...|Property Refunds ...|    Property Address|     11216.0|                null|               null|             null|           null|                 null|                 null|     ADDRESS|           BROOKLYN|    null|         null| Closed|08/24/2013 03:51:...|            See notes.|          08/21/2013 08:00:...|         03 BROOKLYN|        null|     BROOKLYN|                      null|                      null|                 PHONE|       Unspecified|     BROOKLYN|        null|                null|                 null|               null|                    null|     null|                  null|              null|              null|                null|\n",
            "|22013676|  37085573|08/31/2017 02:40:...|09/01/2017 12:55:...|   DOT|Department of Tra...|    Street Condition|             Pothole|                null|     11413.0|                null|               null|       143 AVENUE|     232 STREET|           143 AVENUE|           232 STREET|INTERSECTION|Springfield Gardens|    null|         null| Closed|                null|  The Department of...|          09/01/2017 12:55:...|           13 QUEENS|        null|       QUEENS|                 1055188.0|                  181556.0|               UNKNOWN|       Unspecified|       QUEENS|        null|                null|                 null|               null|                    null|     null|                  null| 40.66472182521037|-73.74430045066177|(40.6647218252103...|\n",
            "|11790222|  16279399|03/22/2010 02:46:...|03/22/2010 05:30:...|   DOT|Department of Tra...|Traffic Signal Co...|          Controller|                null|        null|                null|               null|             null|           null|            NAGLE AVE|           DYCKMAN ST|INTERSECTION|               null|    null|         null| Closed|                null|  Service Request s...|          03/22/2010 12:00:...|Unspecified MANHA...|        null|    MANHATTAN|                      null|                      null|               UNKNOWN|       Unspecified|    MANHATTAN|        null|                null|                 null|               null|                    null|     null|                  null|              null|              null|                null|\n",
            "|   43460|  29813597|01/28/2015 12:00:...|01/30/2015 12:00:...|   HPD|Department of Hou...|            ELECTRIC|              WIRING|RESIDENTIAL BUILDING|     10475.0|2180 DE REIMER AV...|   DE REIMER AVENUE|    ERSKINE PLACE| BASSETT AVENUE|                 null|                 null|     ADDRESS|              BRONX|    null|         null| Closed|                null|  The Department of...|          01/30/2015 12:00:...|            10 BRONX|2051330200.0|        BRONX|                 1032292.0|                  252603.0|                 PHONE|       Unspecified|        BRONX|        null|                null|                 null|               null|                    null|     null|                  null| 40.85988092738689|-73.82632220420537|(40.8598809273868...|\n",
            "|25808990|  28112590|05/24/2014 06:41:...|06/25/2014 09:20:...|   DOT|Department of Tra...|    Street Condition|             Pothole|                null|       10457|248 EAST  174 STREET|   EAST  174 STREET|    MONROE AVENUE|   WEEKS AVENUE|                 null|                 null|     ADDRESS|              BRONX|    null|         null| Closed|                null|  The Department of...|          06/25/2014 09:20:...|   Unspecified BRONX|2027920040.0|        BRONX|                 1010019.0|                  247035.0|               UNKNOWN|       Unspecified|        BRONX|        null|                null|                 null|               null|                    null|     null|                  null| 40.84469153995725|-73.90686318005753|(40.8446915399572...|\n",
            "| 1572073|  31773174|10/17/2015 11:14:...|10/18/2015 03:20:...|  NYPD|New York City Pol...| Noise - Residential|    Loud Music/Party|Residential Build...|     11206.0|                null|               null|             null|           null|       FAYETTE STREET|        BEAVER STREET|INTERSECTION|           BROOKLYN|    null|     Precinct| Closed|10/18/2015 07:14:...|  The Police Depart...|          10/18/2015 03:19:...|         04 BROOKLYN|        null|     BROOKLYN|                 1001096.0|                  194713.0|                 PHONE|       Unspecified|     BROOKLYN|        null|                null|                 null|               null|                    null|     null|                  null| 40.70110293890009|-73.93924469941925|(40.7011029389000...|\n",
            "| 3211368|  33777867|07/07/2016 09:28:...|07/09/2016 04:10:...|  NYPD|New York City Pol...|     Illegal Parking|Commercial Overni...|     Street/Sidewalk|     10466.0|                null|               null|             null|           null|       LACONIA AVENUE|     EAST  227 STREET|INTERSECTION|              BRONX|    null|     Precinct| Closed|07/08/2016 05:28:...|  The Police Depart...|          07/09/2016 04:10:...|            12 BRONX|        null|        BRONX|                 1026179.0|                  261966.0|                 PHONE|       Unspecified|        BRONX|        null|                null|                 null|               null|                    null|     null|                  null| 40.88561059940042|-73.84836281696182|(40.8856105994004...|\n",
            "|22862851|  16029464|02/18/2010 09:36:...|                null| DOHMH|Department of Hea...|              Rodent|Condition Attract...|3+ Family Mixed U...|     11206.0|   138 GRAHAM AVENUE|      GRAHAM AVENUE|    BOERUM STREET| JOHNSON AVENUE|                 null|                 null|     ADDRESS|           BROOKLYN|    null|         null|Pending|03/20/2010 09:36:...|  Please contact th...|          02/18/2010 09:46:...|         01 BROOKLYN|3030710004.0|     BROOKLYN|                 1000052.0|                  196563.0|                 PHONE|       Unspecified|     BROOKLYN|        null|                null|                 null|               null|                    null|     null|                  null| 40.70618267902816|-73.94300555570015|(40.7061826790281...|\n",
            "| 2551115|  32985274|03/25/2016 05:30:...|03/26/2016 12:00:...|  DSNY|   Brooklyn North 03|Sanitation Condition|15 Street Cond/Du...|              Street|     11205.0|     825 KENT AVENUE|        KENT AVENUE|      PARK AVENUE|  MYRTLE AVENUE|                 null|                 null|     ADDRESS|           BROOKLYN|    null|  DSNY Garage| Closed|                null|  The Department of...|          03/26/2016 12:00:...|         03 BROOKLYN|3018980022.0|     BROOKLYN|                  995446.0|                  192767.0|                MOBILE|       Unspecified|     BROOKLYN|        null|                null|                 null|               null|                    null|     null|                  null|  40.6957705753275|-73.95962472327192|(40.6957705753275...|\n",
            "|16232947|  25998315|07/23/2013 04:37:...|07/26/2013 12:00:...|  DSNY|        Lot Cleaning|          Vacant Lot|8 Request to Clea...|                 Lot|     10303.0|                null|               null|NETHERLAND AVENUE|VAN NAME AVENUE|    NETHERLAND AVENUE|      VAN NAME AVENUE|INTERSECTION|      STATEN ISLAND|    null|         null|Pending|                null|  The Department of...|          07/26/2013 12:00:...|    01 STATEN ISLAND|        null|STATEN ISLAND|                  941469.0|                  168273.0|                 PHONE|       Unspecified|STATEN ISLAND|        null|                null|                 null|               null|                    null|     null|                  null| 40.62844374196343|-74.15412228022673|(40.6284437419634...|\n",
            "|12284100|  22802998|03/01/2012 02:39:...|03/01/2012 02:39:...|   DOT|Department of Tra...|Street Light Cond...|Time Clock Maladj...|                null|        null|    SPRINGFIELD PARK|   SPRINGFIELD PARK|           145 RD|         148 ST|                 null|                 null|   BLOCKFACE|               null|    null|         null| Closed|                null|  Service Request s...|          02/29/2012 02:39:...|  Unspecified QUEENS|        null|       QUEENS|                      null|                      null|               UNKNOWN|       Unspecified|       QUEENS|        null|                null|                 null|               null|                    null|     null|                  null|              null|              null|                null|\n",
            "|21726769|  23538503|07/02/2012 12:30:...|                null| DOHMH|Department of Hea...|      Standing Water|Swimming Pool - U...| 1-2 Family Dwelling|     11436.0|141-16 LINDEN BOU...|   LINDEN BOULEVARD|       141 STREET|     142 STREET|                 null|                 null|     ADDRESS|            JAMAICA|    null|         null|   Open|08/01/2012 12:30:...|  The Department of...|                          null|           12 QUEENS|4119710007.0|       QUEENS|                 1039073.0|                  188501.0|                 PHONE|       Unspecified|       QUEENS|        null|                null|                 null|               null|                    null|     null|                  null| 40.68389868905372| -73.8023310537135|(40.6838986890537...|\n",
            "|10994767|  25830439|06/27/2013 04:30:...|06/27/2013 05:43:...|  NYPD|New York City Pol...| Noise - Residential|    Loud Music/Party|Residential Build...|       10009|   525 EAST 6 STREET|      EAST 6 STREET|         AVENUE A|       AVENUE B|                 null|                 null|     ADDRESS|           NEW YORK|    null|     Precinct| Closed|06/27/2013 12:30:...|  The Police Depart...|          06/27/2013 05:43:...|        03 MANHATTAN|1004020053.0|    MANHATTAN|                  988904.0|                  203474.0|                 PHONE|       Unspecified|    MANHATTAN|        null|                null|                 null|               null|                    null|     null|                  null|40.725164605961695|-73.98320923433049|(40.7251646059616...|\n",
            "|14081014|  19751481|02/03/2011 01:25:...|02/01/2011 09:32:...|   DOT|Department of Tra...|Street Light Cond...|    Street Light Out|                null|     10452.0|                null|               null|             null|           null|    CLARKE PLACE EAST|        WALTON AVENUE|INTERSECTION|              BRONX|    null|         null|Pending|                null|  Service Request s...|          02/01/2011 09:32:...|            04 BRONX|        null|        BRONX|                 1007111.0|                  244501.0|               UNKNOWN|       Unspecified|        BRONX|        null|                null|                 null|               null|                    null|     null|                  null| 40.83774445978676|-73.91738218717425|(40.8377444597867...|\n",
            "|22851720|  16003461|02/14/2010 03:26:...|02/14/2010 03:26:...|  DSNY|   BCC - Queens West|                Snow|15S Re-Plow/Sprea...|              Street|     11416.0|    97-41 101 STREET|         101 STREET|        97 AVENUE|     101 AVENUE|                 null|                 null|     ADDRESS|         OZONE PARK|    null|  DSNY Garage| Closed|                null|  The Department of...|          02/14/2010 12:00:...|           09 QUEENS|4094030036.0|       QUEENS|                 1027986.0|                  189584.0|                 PHONE|       Unspecified|       QUEENS|        null|                null|                 null|               null|                    null|     null|                  null| 40.68693299813197|-73.84229903929199|(40.6869329981319...|\n",
            "| 3526434|  34117283|08/18/2016 02:11:...|08/18/2016 06:10:...|   DEP|Department of Env...|               Sewer|Sewer Backup (Use...|                null|       11691|  14-25 PEARL STREET|       PEARL STREET|       ENRIGHT RD|           null|                 null|                 null|     ADDRESS|       Far Rockaway|    null|         null| Closed|                null|  The Department of...|          08/18/2016 06:10:...|           14 QUEENS|4156570042.0|       QUEENS|                 1051071.0|                  161528.0|                 PHONE|       Unspecified|       QUEENS|        null|                null|                 null|               null|                    null|     null|                  null| 40.60978147396243|-73.75933864178711|(40.6097814739624...|\n",
            "| 1375273|  31523548|09/13/2015 06:48:...|                null| DOHMH|Department of Hea...|  Food Establishment|Food Preparation ...|Restaurant/Bar/De...|       11432|    84-45 164 STREET|         164 STREET|         84 DRIVE|      85 AVENUE|                 null|                 null|     ADDRESS|            JAMAICA|    null|         null|Pending|10/20/2015 06:48:...|  The Department of...|          09/14/2015 10:35:...|           08 QUEENS|4098540003.0|       QUEENS|                 1039206.0|                  199231.0|                 PHONE|       Unspecified|       QUEENS|        null|                null|                 null|               null|                    null|     null|                  null| 40.71334913647706|-73.80176396047963|(40.7133491364770...|\n",
            "|11554050|  36137031|05/08/2017 09:23:...|05/15/2017 03:06:...|   DOF|Personal Exemptio...|DOF Property - Re...|Personal SCHE Exe...|1-, 2- and 3- Fam...|       11219|                null|               null|             null|           null|                 null|                 null|     ADDRESS|           BROOKLYN|    null|         null| Closed|05/13/2017 09:23:...|            See notes.|          05/15/2017 03:06:...|         12 BROOKLYN|        null|     BROOKLYN|                      null|                      null|                 PHONE|       Unspecified|     BROOKLYN|        null|                null|                 null|               null|                    null|     null|                  null|              null|              null|                null|\n",
            "+--------+----------+--------------------+--------------------+------+--------------------+--------------------+--------------------+--------------------+------------+--------------------+-------------------+-----------------+---------------+---------------------+---------------------+------------+-------------------+--------+-------------+-------+--------------------+----------------------+------------------------------+--------------------+------------+-------------+--------------------------+--------------------------+----------------------+------------------+-------------+------------+--------------------+---------------------+-------------------+------------------------+---------+----------------------+------------------+------------------+--------------------+\n",
            "only showing top 20 rows\n",
            "\n"
          ]
        }
      ]
    },
    {
      "cell_type": "code",
      "source": [
        "df_311= df_data.select('*')\n",
        "df_311.show()"
      ],
      "metadata": {
        "id": "Xde8Ob0yT_ei",
        "colab": {
          "base_uri": "https://localhost:8080/"
        },
        "outputId": "a9a6fe0b-8713-40b3-b6fc-ff3ce516c439"
      },
      "execution_count": null,
      "outputs": [
        {
          "output_type": "stream",
          "name": "stdout",
          "text": [
            "+--------+----------+--------------------+--------------------+------+--------------------+--------------------+--------------------+--------------------+------------+--------------------+-------------------+-----------------+---------------+---------------------+---------------------+------------+-------------------+--------+-------------+-------+--------------------+----------------------+------------------------------+--------------------+------------+-------------+--------------------------+--------------------------+----------------------+------------------+-------------+------------+--------------------+---------------------+-------------------+------------------------+---------+----------------------+------------------+------------------+--------------------+\n",
            "|     _c0|Unique Key|        Created Date|         Closed Date|Agency|         Agency Name|      Complaint Type|          Descriptor|       Location Type|Incident Zip|    Incident Address|        Street Name|   Cross Street 1| Cross Street 2|Intersection Street 1|Intersection Street 2|Address Type|               City|Landmark|Facility Type| Status|            Due Date|Resolution Description|Resolution Action Updated Date|     Community Board|         BBL|      Borough|X Coordinate (State Plane)|Y Coordinate (State Plane)|Open Data Channel Type|Park Facility Name| Park Borough|Vehicle Type|Taxi Company Borough|Taxi Pick Up Location|Bridge Highway Name|Bridge Highway Direction|Road Ramp|Bridge Highway Segment|          Latitude|         Longitude|            Location|\n",
            "+--------+----------+--------------------+--------------------+------+--------------------+--------------------+--------------------+--------------------+------------+--------------------+-------------------+-----------------+---------------+---------------------+---------------------+------------+-------------------+--------+-------------+-------+--------------------+----------------------+------------------------------+--------------------+------------+-------------+--------------------------+--------------------------+----------------------+------------------+-------------+------------+--------------------+---------------------+-------------------+------------------------+---------+----------------------+------------------+------------------+--------------------+\n",
            "| 1161152|  31247536|08/05/2015 06:35:...|08/19/2015 09:09:...|   DPR|Department of Par...|Root/Sewer/Sidewa...|Sidewalk Consulta...|              Street|     11360.0|    214-09 23 AVENUE|          23 AVENUE|   BELL BOULEVARD|     215 STREET|                 null|                 null|     ADDRESS|            BAYSIDE|    null|         null| Closed|09/04/2015 06:35:...|  The agency has ma...|          08/19/2015 08:58:...|           07 QUEENS|4059500008.0|       QUEENS|                 1046185.0|                  224448.0|                 PHONE|       Unspecified|       QUEENS|        null|                null|                 null|               null|                    null|     null|                  null|40.782517127277416|-73.77635733957257|(40.7825171272774...|\n",
            "|19331004|  49902206|03/01/2021 11:22:...|03/02/2021 05:31:...|   HPD|Department of Hou...|      HEAT/HOT WATER|      APARTMENT ONLY|RESIDENTIAL BUILDING|     11691.0|51-24 BEACH CHANN...|BEACH CHANNEL DRIVE|             null|           null|                 null|                 null|     ADDRESS|       Far Rockaway|    null|         null| Closed|                null|  The Department of...|          03/02/2021 12:00:...|           14 QUEENS|4160010002.0|       QUEENS|                 1044756.0|                  156219.0|                ONLINE|       Unspecified|       QUEENS|        null|                null|                 null|               null|                    null|     null|                  null| 40.59525476424622|-73.78213009462443|(40.5952547642462...|\n",
            "|20420950|  26123456|08/14/2013 03:51:...|08/21/2013 08:00:...|   DOF|Refunds and Adjus...|DOF Property - Pa...|Property Refunds ...|    Property Address|     11216.0|                null|               null|             null|           null|                 null|                 null|     ADDRESS|           BROOKLYN|    null|         null| Closed|08/24/2013 03:51:...|            See notes.|          08/21/2013 08:00:...|         03 BROOKLYN|        null|     BROOKLYN|                      null|                      null|                 PHONE|       Unspecified|     BROOKLYN|        null|                null|                 null|               null|                    null|     null|                  null|              null|              null|                null|\n",
            "|22013676|  37085573|08/31/2017 02:40:...|09/01/2017 12:55:...|   DOT|Department of Tra...|    Street Condition|             Pothole|                null|     11413.0|                null|               null|       143 AVENUE|     232 STREET|           143 AVENUE|           232 STREET|INTERSECTION|Springfield Gardens|    null|         null| Closed|                null|  The Department of...|          09/01/2017 12:55:...|           13 QUEENS|        null|       QUEENS|                 1055188.0|                  181556.0|               UNKNOWN|       Unspecified|       QUEENS|        null|                null|                 null|               null|                    null|     null|                  null| 40.66472182521037|-73.74430045066177|(40.6647218252103...|\n",
            "|11790222|  16279399|03/22/2010 02:46:...|03/22/2010 05:30:...|   DOT|Department of Tra...|Traffic Signal Co...|          Controller|                null|        null|                null|               null|             null|           null|            NAGLE AVE|           DYCKMAN ST|INTERSECTION|               null|    null|         null| Closed|                null|  Service Request s...|          03/22/2010 12:00:...|Unspecified MANHA...|        null|    MANHATTAN|                      null|                      null|               UNKNOWN|       Unspecified|    MANHATTAN|        null|                null|                 null|               null|                    null|     null|                  null|              null|              null|                null|\n",
            "|   43460|  29813597|01/28/2015 12:00:...|01/30/2015 12:00:...|   HPD|Department of Hou...|            ELECTRIC|              WIRING|RESIDENTIAL BUILDING|     10475.0|2180 DE REIMER AV...|   DE REIMER AVENUE|    ERSKINE PLACE| BASSETT AVENUE|                 null|                 null|     ADDRESS|              BRONX|    null|         null| Closed|                null|  The Department of...|          01/30/2015 12:00:...|            10 BRONX|2051330200.0|        BRONX|                 1032292.0|                  252603.0|                 PHONE|       Unspecified|        BRONX|        null|                null|                 null|               null|                    null|     null|                  null| 40.85988092738689|-73.82632220420537|(40.8598809273868...|\n",
            "|25808990|  28112590|05/24/2014 06:41:...|06/25/2014 09:20:...|   DOT|Department of Tra...|    Street Condition|             Pothole|                null|       10457|248 EAST  174 STREET|   EAST  174 STREET|    MONROE AVENUE|   WEEKS AVENUE|                 null|                 null|     ADDRESS|              BRONX|    null|         null| Closed|                null|  The Department of...|          06/25/2014 09:20:...|   Unspecified BRONX|2027920040.0|        BRONX|                 1010019.0|                  247035.0|               UNKNOWN|       Unspecified|        BRONX|        null|                null|                 null|               null|                    null|     null|                  null| 40.84469153995725|-73.90686318005753|(40.8446915399572...|\n",
            "| 1572073|  31773174|10/17/2015 11:14:...|10/18/2015 03:20:...|  NYPD|New York City Pol...| Noise - Residential|    Loud Music/Party|Residential Build...|     11206.0|                null|               null|             null|           null|       FAYETTE STREET|        BEAVER STREET|INTERSECTION|           BROOKLYN|    null|     Precinct| Closed|10/18/2015 07:14:...|  The Police Depart...|          10/18/2015 03:19:...|         04 BROOKLYN|        null|     BROOKLYN|                 1001096.0|                  194713.0|                 PHONE|       Unspecified|     BROOKLYN|        null|                null|                 null|               null|                    null|     null|                  null| 40.70110293890009|-73.93924469941925|(40.7011029389000...|\n",
            "| 3211368|  33777867|07/07/2016 09:28:...|07/09/2016 04:10:...|  NYPD|New York City Pol...|     Illegal Parking|Commercial Overni...|     Street/Sidewalk|     10466.0|                null|               null|             null|           null|       LACONIA AVENUE|     EAST  227 STREET|INTERSECTION|              BRONX|    null|     Precinct| Closed|07/08/2016 05:28:...|  The Police Depart...|          07/09/2016 04:10:...|            12 BRONX|        null|        BRONX|                 1026179.0|                  261966.0|                 PHONE|       Unspecified|        BRONX|        null|                null|                 null|               null|                    null|     null|                  null| 40.88561059940042|-73.84836281696182|(40.8856105994004...|\n",
            "|22862851|  16029464|02/18/2010 09:36:...|                null| DOHMH|Department of Hea...|              Rodent|Condition Attract...|3+ Family Mixed U...|     11206.0|   138 GRAHAM AVENUE|      GRAHAM AVENUE|    BOERUM STREET| JOHNSON AVENUE|                 null|                 null|     ADDRESS|           BROOKLYN|    null|         null|Pending|03/20/2010 09:36:...|  Please contact th...|          02/18/2010 09:46:...|         01 BROOKLYN|3030710004.0|     BROOKLYN|                 1000052.0|                  196563.0|                 PHONE|       Unspecified|     BROOKLYN|        null|                null|                 null|               null|                    null|     null|                  null| 40.70618267902816|-73.94300555570015|(40.7061826790281...|\n",
            "| 2551115|  32985274|03/25/2016 05:30:...|03/26/2016 12:00:...|  DSNY|   Brooklyn North 03|Sanitation Condition|15 Street Cond/Du...|              Street|     11205.0|     825 KENT AVENUE|        KENT AVENUE|      PARK AVENUE|  MYRTLE AVENUE|                 null|                 null|     ADDRESS|           BROOKLYN|    null|  DSNY Garage| Closed|                null|  The Department of...|          03/26/2016 12:00:...|         03 BROOKLYN|3018980022.0|     BROOKLYN|                  995446.0|                  192767.0|                MOBILE|       Unspecified|     BROOKLYN|        null|                null|                 null|               null|                    null|     null|                  null|  40.6957705753275|-73.95962472327192|(40.6957705753275...|\n",
            "|16232947|  25998315|07/23/2013 04:37:...|07/26/2013 12:00:...|  DSNY|        Lot Cleaning|          Vacant Lot|8 Request to Clea...|                 Lot|     10303.0|                null|               null|NETHERLAND AVENUE|VAN NAME AVENUE|    NETHERLAND AVENUE|      VAN NAME AVENUE|INTERSECTION|      STATEN ISLAND|    null|         null|Pending|                null|  The Department of...|          07/26/2013 12:00:...|    01 STATEN ISLAND|        null|STATEN ISLAND|                  941469.0|                  168273.0|                 PHONE|       Unspecified|STATEN ISLAND|        null|                null|                 null|               null|                    null|     null|                  null| 40.62844374196343|-74.15412228022673|(40.6284437419634...|\n",
            "|12284100|  22802998|03/01/2012 02:39:...|03/01/2012 02:39:...|   DOT|Department of Tra...|Street Light Cond...|Time Clock Maladj...|                null|        null|    SPRINGFIELD PARK|   SPRINGFIELD PARK|           145 RD|         148 ST|                 null|                 null|   BLOCKFACE|               null|    null|         null| Closed|                null|  Service Request s...|          02/29/2012 02:39:...|  Unspecified QUEENS|        null|       QUEENS|                      null|                      null|               UNKNOWN|       Unspecified|       QUEENS|        null|                null|                 null|               null|                    null|     null|                  null|              null|              null|                null|\n",
            "|21726769|  23538503|07/02/2012 12:30:...|                null| DOHMH|Department of Hea...|      Standing Water|Swimming Pool - U...| 1-2 Family Dwelling|     11436.0|141-16 LINDEN BOU...|   LINDEN BOULEVARD|       141 STREET|     142 STREET|                 null|                 null|     ADDRESS|            JAMAICA|    null|         null|   Open|08/01/2012 12:30:...|  The Department of...|                          null|           12 QUEENS|4119710007.0|       QUEENS|                 1039073.0|                  188501.0|                 PHONE|       Unspecified|       QUEENS|        null|                null|                 null|               null|                    null|     null|                  null| 40.68389868905372| -73.8023310537135|(40.6838986890537...|\n",
            "|10994767|  25830439|06/27/2013 04:30:...|06/27/2013 05:43:...|  NYPD|New York City Pol...| Noise - Residential|    Loud Music/Party|Residential Build...|       10009|   525 EAST 6 STREET|      EAST 6 STREET|         AVENUE A|       AVENUE B|                 null|                 null|     ADDRESS|           NEW YORK|    null|     Precinct| Closed|06/27/2013 12:30:...|  The Police Depart...|          06/27/2013 05:43:...|        03 MANHATTAN|1004020053.0|    MANHATTAN|                  988904.0|                  203474.0|                 PHONE|       Unspecified|    MANHATTAN|        null|                null|                 null|               null|                    null|     null|                  null|40.725164605961695|-73.98320923433049|(40.7251646059616...|\n",
            "|14081014|  19751481|02/03/2011 01:25:...|02/01/2011 09:32:...|   DOT|Department of Tra...|Street Light Cond...|    Street Light Out|                null|     10452.0|                null|               null|             null|           null|    CLARKE PLACE EAST|        WALTON AVENUE|INTERSECTION|              BRONX|    null|         null|Pending|                null|  Service Request s...|          02/01/2011 09:32:...|            04 BRONX|        null|        BRONX|                 1007111.0|                  244501.0|               UNKNOWN|       Unspecified|        BRONX|        null|                null|                 null|               null|                    null|     null|                  null| 40.83774445978676|-73.91738218717425|(40.8377444597867...|\n",
            "|22851720|  16003461|02/14/2010 03:26:...|02/14/2010 03:26:...|  DSNY|   BCC - Queens West|                Snow|15S Re-Plow/Sprea...|              Street|     11416.0|    97-41 101 STREET|         101 STREET|        97 AVENUE|     101 AVENUE|                 null|                 null|     ADDRESS|         OZONE PARK|    null|  DSNY Garage| Closed|                null|  The Department of...|          02/14/2010 12:00:...|           09 QUEENS|4094030036.0|       QUEENS|                 1027986.0|                  189584.0|                 PHONE|       Unspecified|       QUEENS|        null|                null|                 null|               null|                    null|     null|                  null| 40.68693299813197|-73.84229903929199|(40.6869329981319...|\n",
            "| 3526434|  34117283|08/18/2016 02:11:...|08/18/2016 06:10:...|   DEP|Department of Env...|               Sewer|Sewer Backup (Use...|                null|       11691|  14-25 PEARL STREET|       PEARL STREET|       ENRIGHT RD|           null|                 null|                 null|     ADDRESS|       Far Rockaway|    null|         null| Closed|                null|  The Department of...|          08/18/2016 06:10:...|           14 QUEENS|4156570042.0|       QUEENS|                 1051071.0|                  161528.0|                 PHONE|       Unspecified|       QUEENS|        null|                null|                 null|               null|                    null|     null|                  null| 40.60978147396243|-73.75933864178711|(40.6097814739624...|\n",
            "| 1375273|  31523548|09/13/2015 06:48:...|                null| DOHMH|Department of Hea...|  Food Establishment|Food Preparation ...|Restaurant/Bar/De...|       11432|    84-45 164 STREET|         164 STREET|         84 DRIVE|      85 AVENUE|                 null|                 null|     ADDRESS|            JAMAICA|    null|         null|Pending|10/20/2015 06:48:...|  The Department of...|          09/14/2015 10:35:...|           08 QUEENS|4098540003.0|       QUEENS|                 1039206.0|                  199231.0|                 PHONE|       Unspecified|       QUEENS|        null|                null|                 null|               null|                    null|     null|                  null| 40.71334913647706|-73.80176396047963|(40.7133491364770...|\n",
            "|11554050|  36137031|05/08/2017 09:23:...|05/15/2017 03:06:...|   DOF|Personal Exemptio...|DOF Property - Re...|Personal SCHE Exe...|1-, 2- and 3- Fam...|       11219|                null|               null|             null|           null|                 null|                 null|     ADDRESS|           BROOKLYN|    null|         null| Closed|05/13/2017 09:23:...|            See notes.|          05/15/2017 03:06:...|         12 BROOKLYN|        null|     BROOKLYN|                      null|                      null|                 PHONE|       Unspecified|     BROOKLYN|        null|                null|                 null|               null|                    null|     null|                  null|              null|              null|                null|\n",
            "+--------+----------+--------------------+--------------------+------+--------------------+--------------------+--------------------+--------------------+------------+--------------------+-------------------+-----------------+---------------+---------------------+---------------------+------------+-------------------+--------+-------------+-------+--------------------+----------------------+------------------------------+--------------------+------------+-------------+--------------------------+--------------------------+----------------------+------------------+-------------+------------+--------------------+---------------------+-------------------+------------------------+---------+----------------------+------------------+------------------+--------------------+\n",
            "only showing top 20 rows\n",
            "\n"
          ]
        }
      ]
    },
    {
      "cell_type": "markdown",
      "source": [
        "######Creating Data Stream "
      ],
      "metadata": {
        "id": "sbirqmMFOS8y"
      }
    },
    {
      "cell_type": "code",
      "source": [
        "ds = stream(\"Sampled_Data.csv\")"
      ],
      "metadata": {
        "id": "CFzSsUnMHxP5"
      },
      "execution_count": null,
      "outputs": []
    },
    {
      "cell_type": "markdown",
      "source": [
        "#### Complete Dataset Loading"
      ],
      "metadata": {
        "id": "zvgfsI7aShXc"
      }
    },
    {
      "cell_type": "markdown",
      "source": [
        "Download file using Socrata API"
      ],
      "metadata": {
        "id": "XtMLqbZ8SoK9"
      }
    },
    {
      "cell_type": "code",
      "source": [
        "# dataset = Socrata().dataset('erm2-nwe9')\n",
        "# datafile = './erm2-nwe9.tsv.gz'\n",
        "# # Download file only if it does not exist already.\n",
        "# if not os.path.isfile(datafile):\n",
        "#     with gzip.open(datafile, 'wb') as f:\n",
        "#       print('Downloading ...\\n')\n",
        "#       dataset.write(f)\n",
        "# fsize = humanfriendly.format_size(os.stat(datafile).st_size)\n",
        "# print(\"Using '{}' in file {} of size {}\".format(dataset.name, datafile, fsize))"
      ],
      "metadata": {
        "id": "ApRkwd9FSlPO"
      },
      "execution_count": null,
      "outputs": []
    },
    {
      "cell_type": "markdown",
      "source": [
        "##### Creating Spark Dataframe"
      ],
      "metadata": {
        "id": "SPhTKUQzVWVs"
      }
    },
    {
      "cell_type": "code",
      "source": [
        "# spark = SparkSession.builder.appName(\"Project\").getOrCreate()\n",
        "# sc = spark.sparkContext"
      ],
      "metadata": {
        "id": "vyGDATezVas7"
      },
      "execution_count": null,
      "outputs": []
    },
    {
      "cell_type": "code",
      "source": [
        "# sc"
      ],
      "metadata": {
        "id": "Hqq1ENmGVjqD"
      },
      "execution_count": null,
      "outputs": []
    },
    {
      "cell_type": "code",
      "source": [
        "# df_data = spark.read.format(\"csv\") \\\n",
        "# .option(\"header\", \"true\") \\\n",
        "# .option(\"infer_schema\",\"true\")\\\n",
        "# .option(\"first_row_is_header\",\"true\")\\\n",
        "# .load(datafile)"
      ],
      "metadata": {
        "id": "Vv0aw5E0VnEm"
      },
      "execution_count": null,
      "outputs": []
    },
    {
      "cell_type": "code",
      "source": [
        "# df_311= df_data.select('*')\n",
        "# df_311.show()"
      ],
      "metadata": {
        "id": "wwSgXcPrVkLn"
      },
      "execution_count": null,
      "outputs": []
    },
    {
      "cell_type": "markdown",
      "source": [
        "##### Creating Data Stream"
      ],
      "metadata": {
        "id": "eTOCdO91VOwH"
      }
    },
    {
      "cell_type": "code",
      "source": [
        "# ds = stream(datafile)"
      ],
      "metadata": {
        "id": "sdwHPKhjSvMj"
      },
      "execution_count": null,
      "outputs": []
    },
    {
      "cell_type": "markdown",
      "source": [
        "### Initial Profiling"
      ],
      "metadata": {
        "id": "QWWlYKA_OoWE"
      }
    },
    {
      "cell_type": "code",
      "source": [
        "profiles = ds.profile(default_profiler=DefaultColumnProfiler)\n",
        "profiles.stats()"
      ],
      "metadata": {
        "colab": {
          "base_uri": "https://localhost:8080/"
        },
        "id": "p0pudIeMIACH",
        "outputId": "47a4276c-1e8e-4215-f9b8-108e3233896e"
      },
      "execution_count": null,
      "outputs": [
        {
          "output_type": "stream",
          "name": "stderr",
          "text": [
            "/usr/local/lib/python3.7/dist-packages/dateutil/parser/_parser.py:1212: UnknownTimezoneWarning: tzname PLACE identified but not understood.  Pass `tzinfos` argument in order to correctly return a timezone-aware datetime.  In a future version, this will raise an exception.\n",
            "  category=UnknownTimezoneWarning)\n"
          ]
        },
        {
          "output_type": "execute_result",
          "data": {
            "text/html": [
              "<div>\n",
              "<style scoped>\n",
              "    .dataframe tbody tr th:only-of-type {\n",
              "        vertical-align: middle;\n",
              "    }\n",
              "\n",
              "    .dataframe tbody tr th {\n",
              "        vertical-align: top;\n",
              "    }\n",
              "\n",
              "    .dataframe thead th {\n",
              "        text-align: right;\n",
              "    }\n",
              "</style>\n",
              "<table border=\"1\" class=\"dataframe\">\n",
              "  <thead>\n",
              "    <tr style=\"text-align: right;\">\n",
              "      <th></th>\n",
              "      <th>total</th>\n",
              "      <th>empty</th>\n",
              "      <th>distinct</th>\n",
              "      <th>uniqueness</th>\n",
              "      <th>entropy</th>\n",
              "    </tr>\n",
              "  </thead>\n",
              "  <tbody>\n",
              "    <tr>\n",
              "      <th></th>\n",
              "      <td>1353465</td>\n",
              "      <td>0</td>\n",
              "      <td>1353465</td>\n",
              "      <td>1.000000</td>\n",
              "      <td>20.368226</td>\n",
              "    </tr>\n",
              "    <tr>\n",
              "      <th>Unique Key</th>\n",
              "      <td>1353465</td>\n",
              "      <td>0</td>\n",
              "      <td>1353465</td>\n",
              "      <td>1.000000</td>\n",
              "      <td>20.368226</td>\n",
              "    </tr>\n",
              "    <tr>\n",
              "      <th>Created Date</th>\n",
              "      <td>1353465</td>\n",
              "      <td>0</td>\n",
              "      <td>1142338</td>\n",
              "      <td>0.844010</td>\n",
              "      <td>19.440945</td>\n",
              "    </tr>\n",
              "    <tr>\n",
              "      <th>Closed Date</th>\n",
              "      <td>1353465</td>\n",
              "      <td>37626</td>\n",
              "      <td>939005</td>\n",
              "      <td>0.713617</td>\n",
              "      <td>18.714398</td>\n",
              "    </tr>\n",
              "    <tr>\n",
              "      <th>Agency</th>\n",
              "      <td>1353465</td>\n",
              "      <td>0</td>\n",
              "      <td>28</td>\n",
              "      <td>0.000021</td>\n",
              "      <td>2.949971</td>\n",
              "    </tr>\n",
              "    <tr>\n",
              "      <th>Agency Name</th>\n",
              "      <td>1353465</td>\n",
              "      <td>0</td>\n",
              "      <td>680</td>\n",
              "      <td>0.000502</td>\n",
              "      <td>3.336534</td>\n",
              "    </tr>\n",
              "    <tr>\n",
              "      <th>Complaint Type</th>\n",
              "      <td>1353465</td>\n",
              "      <td>0</td>\n",
              "      <td>316</td>\n",
              "      <td>0.000233</td>\n",
              "      <td>5.921032</td>\n",
              "    </tr>\n",
              "    <tr>\n",
              "      <th>Descriptor</th>\n",
              "      <td>1353465</td>\n",
              "      <td>21326</td>\n",
              "      <td>1484</td>\n",
              "      <td>0.001114</td>\n",
              "      <td>7.334426</td>\n",
              "    </tr>\n",
              "    <tr>\n",
              "      <th>Location Type</th>\n",
              "      <td>1353465</td>\n",
              "      <td>320891</td>\n",
              "      <td>171</td>\n",
              "      <td>0.000166</td>\n",
              "      <td>3.129963</td>\n",
              "    </tr>\n",
              "    <tr>\n",
              "      <th>Incident Zip</th>\n",
              "      <td>1353465</td>\n",
              "      <td>71169</td>\n",
              "      <td>823</td>\n",
              "      <td>0.000642</td>\n",
              "      <td>8.012380</td>\n",
              "    </tr>\n",
              "    <tr>\n",
              "      <th>Incident Address</th>\n",
              "      <td>1353465</td>\n",
              "      <td>221350</td>\n",
              "      <td>429595</td>\n",
              "      <td>0.379462</td>\n",
              "      <td>17.589028</td>\n",
              "    </tr>\n",
              "    <tr>\n",
              "      <th>Street Name</th>\n",
              "      <td>1353465</td>\n",
              "      <td>221433</td>\n",
              "      <td>16088</td>\n",
              "      <td>0.014212</td>\n",
              "      <td>11.392891</td>\n",
              "    </tr>\n",
              "    <tr>\n",
              "      <th>Cross Street 1</th>\n",
              "      <td>1353465</td>\n",
              "      <td>422938</td>\n",
              "      <td>21362</td>\n",
              "      <td>0.022957</td>\n",
              "      <td>11.454089</td>\n",
              "    </tr>\n",
              "    <tr>\n",
              "      <th>Cross Street 2</th>\n",
              "      <td>1353465</td>\n",
              "      <td>428859</td>\n",
              "      <td>18135</td>\n",
              "      <td>0.019614</td>\n",
              "      <td>11.445766</td>\n",
              "    </tr>\n",
              "    <tr>\n",
              "      <th>Intersection Street 1</th>\n",
              "      <td>1353465</td>\n",
              "      <td>985824</td>\n",
              "      <td>12701</td>\n",
              "      <td>0.034547</td>\n",
              "      <td>11.326904</td>\n",
              "    </tr>\n",
              "    <tr>\n",
              "      <th>Intersection Street 2</th>\n",
              "      <td>1353465</td>\n",
              "      <td>986138</td>\n",
              "      <td>13255</td>\n",
              "      <td>0.036085</td>\n",
              "      <td>11.424222</td>\n",
              "    </tr>\n",
              "    <tr>\n",
              "      <th>Address Type</th>\n",
              "      <td>1353465</td>\n",
              "      <td>213267</td>\n",
              "      <td>6</td>\n",
              "      <td>0.000005</td>\n",
              "      <td>0.845298</td>\n",
              "    </tr>\n",
              "    <tr>\n",
              "      <th>City</th>\n",
              "      <td>1353465</td>\n",
              "      <td>84354</td>\n",
              "      <td>407</td>\n",
              "      <td>0.000321</td>\n",
              "      <td>3.579374</td>\n",
              "    </tr>\n",
              "    <tr>\n",
              "      <th>Landmark</th>\n",
              "      <td>1353465</td>\n",
              "      <td>1173236</td>\n",
              "      <td>6505</td>\n",
              "      <td>0.036093</td>\n",
              "      <td>10.884129</td>\n",
              "    </tr>\n",
              "    <tr>\n",
              "      <th>Facility Type</th>\n",
              "      <td>1353465</td>\n",
              "      <td>1078373</td>\n",
              "      <td>4</td>\n",
              "      <td>0.000015</td>\n",
              "      <td>0.602515</td>\n",
              "    </tr>\n",
              "    <tr>\n",
              "      <th>Status</th>\n",
              "      <td>1353465</td>\n",
              "      <td>0</td>\n",
              "      <td>11</td>\n",
              "      <td>0.000008</td>\n",
              "      <td>0.318074</td>\n",
              "    </tr>\n",
              "    <tr>\n",
              "      <th>Due Date</th>\n",
              "      <td>1353465</td>\n",
              "      <td>920737</td>\n",
              "      <td>423174</td>\n",
              "      <td>0.977921</td>\n",
              "      <td>18.619726</td>\n",
              "    </tr>\n",
              "    <tr>\n",
              "      <th>Resolution Description</th>\n",
              "      <td>1353465</td>\n",
              "      <td>27536</td>\n",
              "      <td>1354</td>\n",
              "      <td>0.001021</td>\n",
              "      <td>6.352330</td>\n",
              "    </tr>\n",
              "    <tr>\n",
              "      <th>Resolution Action Updated Date</th>\n",
              "      <td>1353465</td>\n",
              "      <td>20023</td>\n",
              "      <td>921689</td>\n",
              "      <td>0.691210</td>\n",
              "      <td>18.562822</td>\n",
              "    </tr>\n",
              "    <tr>\n",
              "      <th>Community Board</th>\n",
              "      <td>1353465</td>\n",
              "      <td>2273</td>\n",
              "      <td>79</td>\n",
              "      <td>0.000058</td>\n",
              "      <td>5.935899</td>\n",
              "    </tr>\n",
              "    <tr>\n",
              "      <th>BBL</th>\n",
              "      <td>1353465</td>\n",
              "      <td>314431</td>\n",
              "      <td>322959</td>\n",
              "      <td>0.310826</td>\n",
              "      <td>17.004591</td>\n",
              "    </tr>\n",
              "    <tr>\n",
              "      <th>Borough</th>\n",
              "      <td>1353465</td>\n",
              "      <td>2273</td>\n",
              "      <td>6</td>\n",
              "      <td>0.000004</td>\n",
              "      <td>2.334311</td>\n",
              "    </tr>\n",
              "    <tr>\n",
              "      <th>X Coordinate (State Plane)</th>\n",
              "      <td>1353465</td>\n",
              "      <td>108016</td>\n",
              "      <td>109228</td>\n",
              "      <td>0.087702</td>\n",
              "      <td>15.798988</td>\n",
              "    </tr>\n",
              "    <tr>\n",
              "      <th>Y Coordinate (State Plane)</th>\n",
              "      <td>1353465</td>\n",
              "      <td>108009</td>\n",
              "      <td>121910</td>\n",
              "      <td>0.097884</td>\n",
              "      <td>16.154105</td>\n",
              "    </tr>\n",
              "    <tr>\n",
              "      <th>Open Data Channel Type</th>\n",
              "      <td>1353465</td>\n",
              "      <td>0</td>\n",
              "      <td>5</td>\n",
              "      <td>0.000004</td>\n",
              "      <td>1.850870</td>\n",
              "    </tr>\n",
              "    <tr>\n",
              "      <th>Park Facility Name</th>\n",
              "      <td>1353465</td>\n",
              "      <td>76</td>\n",
              "      <td>2323</td>\n",
              "      <td>0.001716</td>\n",
              "      <td>0.133236</td>\n",
              "    </tr>\n",
              "    <tr>\n",
              "      <th>Park Borough</th>\n",
              "      <td>1353465</td>\n",
              "      <td>2273</td>\n",
              "      <td>6</td>\n",
              "      <td>0.000004</td>\n",
              "      <td>2.334311</td>\n",
              "    </tr>\n",
              "    <tr>\n",
              "      <th>Vehicle Type</th>\n",
              "      <td>1353465</td>\n",
              "      <td>1352980</td>\n",
              "      <td>4</td>\n",
              "      <td>0.008247</td>\n",
              "      <td>0.563645</td>\n",
              "    </tr>\n",
              "    <tr>\n",
              "      <th>Taxi Company Borough</th>\n",
              "      <td>1353465</td>\n",
              "      <td>1352376</td>\n",
              "      <td>5</td>\n",
              "      <td>0.004591</td>\n",
              "      <td>2.170140</td>\n",
              "    </tr>\n",
              "    <tr>\n",
              "      <th>Taxi Pick Up Location</th>\n",
              "      <td>1353465</td>\n",
              "      <td>1343072</td>\n",
              "      <td>2809</td>\n",
              "      <td>0.270278</td>\n",
              "      <td>5.440310</td>\n",
              "    </tr>\n",
              "    <tr>\n",
              "      <th>Bridge Highway Name</th>\n",
              "      <td>1353465</td>\n",
              "      <td>1349628</td>\n",
              "      <td>90</td>\n",
              "      <td>0.023456</td>\n",
              "      <td>5.186495</td>\n",
              "    </tr>\n",
              "    <tr>\n",
              "      <th>Bridge Highway Direction</th>\n",
              "      <td>1353465</td>\n",
              "      <td>1350093</td>\n",
              "      <td>145</td>\n",
              "      <td>0.043001</td>\n",
              "      <td>5.314065</td>\n",
              "    </tr>\n",
              "    <tr>\n",
              "      <th>Road Ramp</th>\n",
              "      <td>1353465</td>\n",
              "      <td>1350324</td>\n",
              "      <td>54</td>\n",
              "      <td>0.017192</td>\n",
              "      <td>1.017023</td>\n",
              "    </tr>\n",
              "    <tr>\n",
              "      <th>Bridge Highway Segment</th>\n",
              "      <td>1353465</td>\n",
              "      <td>1349428</td>\n",
              "      <td>1199</td>\n",
              "      <td>0.297003</td>\n",
              "      <td>8.786719</td>\n",
              "    </tr>\n",
              "    <tr>\n",
              "      <th>Latitude</th>\n",
              "      <td>1353465</td>\n",
              "      <td>108017</td>\n",
              "      <td>464296</td>\n",
              "      <td>0.372794</td>\n",
              "      <td>17.800514</td>\n",
              "    </tr>\n",
              "    <tr>\n",
              "      <th>Longitude</th>\n",
              "      <td>1353465</td>\n",
              "      <td>108017</td>\n",
              "      <td>464297</td>\n",
              "      <td>0.372795</td>\n",
              "      <td>17.800519</td>\n",
              "    </tr>\n",
              "    <tr>\n",
              "      <th>Location</th>\n",
              "      <td>1353465</td>\n",
              "      <td>108017</td>\n",
              "      <td>464300</td>\n",
              "      <td>0.372798</td>\n",
              "      <td>17.800529</td>\n",
              "    </tr>\n",
              "  </tbody>\n",
              "</table>\n",
              "</div>"
            ],
            "text/plain": [
              "                                  total    empty  ...  uniqueness    entropy\n",
              "                                1353465        0  ...    1.000000  20.368226\n",
              "Unique Key                      1353465        0  ...    1.000000  20.368226\n",
              "Created Date                    1353465        0  ...    0.844010  19.440945\n",
              "Closed Date                     1353465    37626  ...    0.713617  18.714398\n",
              "Agency                          1353465        0  ...    0.000021   2.949971\n",
              "Agency Name                     1353465        0  ...    0.000502   3.336534\n",
              "Complaint Type                  1353465        0  ...    0.000233   5.921032\n",
              "Descriptor                      1353465    21326  ...    0.001114   7.334426\n",
              "Location Type                   1353465   320891  ...    0.000166   3.129963\n",
              "Incident Zip                    1353465    71169  ...    0.000642   8.012380\n",
              "Incident Address                1353465   221350  ...    0.379462  17.589028\n",
              "Street Name                     1353465   221433  ...    0.014212  11.392891\n",
              "Cross Street 1                  1353465   422938  ...    0.022957  11.454089\n",
              "Cross Street 2                  1353465   428859  ...    0.019614  11.445766\n",
              "Intersection Street 1           1353465   985824  ...    0.034547  11.326904\n",
              "Intersection Street 2           1353465   986138  ...    0.036085  11.424222\n",
              "Address Type                    1353465   213267  ...    0.000005   0.845298\n",
              "City                            1353465    84354  ...    0.000321   3.579374\n",
              "Landmark                        1353465  1173236  ...    0.036093  10.884129\n",
              "Facility Type                   1353465  1078373  ...    0.000015   0.602515\n",
              "Status                          1353465        0  ...    0.000008   0.318074\n",
              "Due Date                        1353465   920737  ...    0.977921  18.619726\n",
              "Resolution Description          1353465    27536  ...    0.001021   6.352330\n",
              "Resolution Action Updated Date  1353465    20023  ...    0.691210  18.562822\n",
              "Community Board                 1353465     2273  ...    0.000058   5.935899\n",
              "BBL                             1353465   314431  ...    0.310826  17.004591\n",
              "Borough                         1353465     2273  ...    0.000004   2.334311\n",
              "X Coordinate (State Plane)      1353465   108016  ...    0.087702  15.798988\n",
              "Y Coordinate (State Plane)      1353465   108009  ...    0.097884  16.154105\n",
              "Open Data Channel Type          1353465        0  ...    0.000004   1.850870\n",
              "Park Facility Name              1353465       76  ...    0.001716   0.133236\n",
              "Park Borough                    1353465     2273  ...    0.000004   2.334311\n",
              "Vehicle Type                    1353465  1352980  ...    0.008247   0.563645\n",
              "Taxi Company Borough            1353465  1352376  ...    0.004591   2.170140\n",
              "Taxi Pick Up Location           1353465  1343072  ...    0.270278   5.440310\n",
              "Bridge Highway Name             1353465  1349628  ...    0.023456   5.186495\n",
              "Bridge Highway Direction        1353465  1350093  ...    0.043001   5.314065\n",
              "Road Ramp                       1353465  1350324  ...    0.017192   1.017023\n",
              "Bridge Highway Segment          1353465  1349428  ...    0.297003   8.786719\n",
              "Latitude                        1353465   108017  ...    0.372794  17.800514\n",
              "Longitude                       1353465   108017  ...    0.372795  17.800519\n",
              "Location                        1353465   108017  ...    0.372798  17.800529\n",
              "\n",
              "[42 rows x 5 columns]"
            ]
          },
          "metadata": {},
          "execution_count": 23
        }
      ]
    },
    {
      "cell_type": "code",
      "source": [
        "print(profiles.types())"
      ],
      "metadata": {
        "colab": {
          "base_uri": "https://localhost:8080/"
        },
        "id": "TwOzu1VJIKYP",
        "outputId": "7345e673-a306-4517-8c80-c8a3a336c359"
      },
      "execution_count": null,
      "outputs": [
        {
          "output_type": "stream",
          "name": "stdout",
          "text": [
            "                                   date   float      int     str\n",
            "                                      0       0  1353465       0\n",
            "Unique Key                            0       0  1353465       0\n",
            "Created Date                    1142338       0        0       0\n",
            "Closed Date                      939005       0        0       0\n",
            "Agency                                0       0        0      28\n",
            "Agency Name                           0       0        0     680\n",
            "Complaint Type                        0       0        0     316\n",
            "Descriptor                            0       0        0    1484\n",
            "Location Type                         0       0        0     171\n",
            "Incident Zip                          0     334      441      48\n",
            "Incident Address                     60       0       23  429512\n",
            "Street Name                           1       0       48   16039\n",
            "Cross Street 1                        2       0        3   21357\n",
            "Cross Street 2                        0       0        4   18131\n",
            "Intersection Street 1                 0       0        9   12692\n",
            "Intersection Street 2                 4       0        2   13249\n",
            "Address Type                          0       0        0       6\n",
            "City                                  0       0        3     404\n",
            "Landmark                              0       0        0    6505\n",
            "Facility Type                         0       0        0       4\n",
            "Status                                0       0        0      11\n",
            "Due Date                         423174       0        0       0\n",
            "Resolution Description                0       0        0    1354\n",
            "Resolution Action Updated Date   921689       0        0       0\n",
            "Community Board                       0       0        0      79\n",
            "BBL                                   0  322959        0       0\n",
            "Borough                               0       0        0       6\n",
            "X Coordinate (State Plane)            0  109228        0       0\n",
            "Y Coordinate (State Plane)            0  121910        0       0\n",
            "Open Data Channel Type                0       0        0       5\n",
            "Park Facility Name                    0       0        0    2323\n",
            "Park Borough                          0       0        0       6\n",
            "Vehicle Type                          0       0        0       4\n",
            "Taxi Company Borough                  0       0        0       5\n",
            "Taxi Pick Up Location                 0       0        0    2809\n",
            "Bridge Highway Name                   0       0        7      83\n",
            "Bridge Highway Direction              0       0        0     145\n",
            "Road Ramp                             0       0        0      54\n",
            "Bridge Highway Segment                0       0        0    1199\n",
            "Latitude                              0  464296        0       0\n",
            "Longitude                             0  464297        0       0\n",
            "Location                              0       0        0  464300\n"
          ]
        }
      ]
    },
    {
      "cell_type": "code",
      "source": [
        "df_data.schema.names "
      ],
      "metadata": {
        "id": "ew6Bu3_AwQCg",
        "colab": {
          "base_uri": "https://localhost:8080/"
        },
        "outputId": "271f953c-99e1-4749-dafd-52fe9edc3dbf"
      },
      "execution_count": null,
      "outputs": [
        {
          "output_type": "execute_result",
          "data": {
            "text/plain": [
              "['_c0',\n",
              " 'Unique Key',\n",
              " 'Created Date',\n",
              " 'Closed Date',\n",
              " 'Agency',\n",
              " 'Agency Name',\n",
              " 'Complaint Type',\n",
              " 'Descriptor',\n",
              " 'Location Type',\n",
              " 'Incident Zip',\n",
              " 'Incident Address',\n",
              " 'Street Name',\n",
              " 'Cross Street 1',\n",
              " 'Cross Street 2',\n",
              " 'Intersection Street 1',\n",
              " 'Intersection Street 2',\n",
              " 'Address Type',\n",
              " 'City',\n",
              " 'Landmark',\n",
              " 'Facility Type',\n",
              " 'Status',\n",
              " 'Due Date',\n",
              " 'Resolution Description',\n",
              " 'Resolution Action Updated Date',\n",
              " 'Community Board',\n",
              " 'BBL',\n",
              " 'Borough',\n",
              " 'X Coordinate (State Plane)',\n",
              " 'Y Coordinate (State Plane)',\n",
              " 'Open Data Channel Type',\n",
              " 'Park Facility Name',\n",
              " 'Park Borough',\n",
              " 'Vehicle Type',\n",
              " 'Taxi Company Borough',\n",
              " 'Taxi Pick Up Location',\n",
              " 'Bridge Highway Name',\n",
              " 'Bridge Highway Direction',\n",
              " 'Road Ramp',\n",
              " 'Bridge Highway Segment',\n",
              " 'Latitude',\n",
              " 'Longitude',\n",
              " 'Location']"
            ]
          },
          "metadata": {},
          "execution_count": 25
        }
      ]
    },
    {
      "cell_type": "markdown",
      "source": [
        "###Initial Cleaning and Dimensionality Reduction\n",
        "\n"
      ],
      "metadata": {
        "id": "JSToMby83AX6"
      }
    },
    {
      "cell_type": "markdown",
      "source": [
        "###### Drop Duplicate rows"
      ],
      "metadata": {
        "id": "SLl9cCUYO0a6"
      }
    },
    {
      "cell_type": "code",
      "source": [
        "''' droping duplicate rows '''\n",
        "df_311.dropDuplicates().show()"
      ],
      "metadata": {
        "id": "GI51rHSrwXd3",
        "colab": {
          "base_uri": "https://localhost:8080/"
        },
        "outputId": "51808c56-8ff8-4d21-cec7-53cf7659363d"
      },
      "execution_count": null,
      "outputs": [
        {
          "output_type": "stream",
          "name": "stdout",
          "text": [
            "+--------+----------+--------------------+--------------------+------+--------------------+--------------------+--------------------+--------------------+------------+--------------------+-----------------+---------------+---------------+---------------------+---------------------+------------+-----+--------+-------------+-------+--------------------+----------------------+------------------------------+-----------------+------------+-------+--------------------------+--------------------------+----------------------+------------------+------------+------------+--------------------+---------------------+-------------------+------------------------+---------+----------------------+-----------------+------------------+--------------------+\n",
            "|     _c0|Unique Key|        Created Date|         Closed Date|Agency|         Agency Name|      Complaint Type|          Descriptor|       Location Type|Incident Zip|    Incident Address|      Street Name| Cross Street 1| Cross Street 2|Intersection Street 1|Intersection Street 2|Address Type| City|Landmark|Facility Type| Status|            Due Date|Resolution Description|Resolution Action Updated Date|  Community Board|         BBL|Borough|X Coordinate (State Plane)|Y Coordinate (State Plane)|Open Data Channel Type|Park Facility Name|Park Borough|Vehicle Type|Taxi Company Borough|Taxi Pick Up Location|Bridge Highway Name|Bridge Highway Direction|Road Ramp|Bridge Highway Segment|         Latitude|         Longitude|            Location|\n",
            "+--------+----------+--------------------+--------------------+------+--------------------+--------------------+--------------------+--------------------+------------+--------------------+-----------------+---------------+---------------+---------------------+---------------------+------------+-----+--------+-------------+-------+--------------------+----------------------+------------------------------+-----------------+------------+-------+--------------------------+--------------------------+----------------------+------------------+------------+------------+--------------------+---------------------+-------------------+------------------------+---------+----------------------+-----------------+------------------+--------------------+\n",
            "|23358170|  48084866|11/06/2020 10:41:...|11/06/2020 10:41:...|   DOT|Department of Tra...|Street Light Cond...|Street Light Cycling|                null|        null|                null|             null|           null|           null|                 null|                 null|INTERSECTION| null|    null|         null| Closed|                null|  Service Request s...|          11/05/2020 08:15:...|             null|        null|   null|                      null|                      null|               UNKNOWN|       Unspecified|        null|        null|                null|                 null|               null|                    null|     null|                  null|             null|              null|                null|\n",
            "|24094362|  39274098|05/24/2018 09:22:...|07/31/2018 03:29:...|   DPR|Department of Par...|Maintenance or Fa...|         Grass/Weeds|                Park|     10461.0|                null|             null|           null|           null|                 null|                 null|        null|BRONX|    null|         null| Closed|06/07/2018 09:22:...|  The Department of...|          07/31/2018 03:29:...|Unspecified BRONX|        null|  BRONX|                      null|                      null|                 PHONE|   Pelham Bay Park|       BRONX|        null|                null|                 null|               null|                    null|     null|                  null|             null|              null|                null|\n",
            "|12162728|  21354371|09/02/2011 04:23:...|09/06/2011 02:15:...|   DHS|DHS Advantage Pro...|DHS Advantage - T...|         Other Issue|      Tenant Address|       10454|                null|             null|           null|           null|                 null|                 null|     ADDRESS|BRONX|    null|         null| Closed|09/13/2011 11:28:...|  The Department of...|          09/06/2011 02:15:...|         01 BRONX|        null|  BRONX|                      null|                      null|                 PHONE|       Unspecified|       BRONX|        null|                null|                 null|               null|                    null|     null|                  null|             null|              null|                null|\n",
            "|11983325|  19400645|12/22/2010 01:36:...|12/28/2010 02:34:...|   DHS|DHS Advantage Pro...|DHS Advantage - T...|         Other Issue|      Tenant Address|       10470|                null|             null|           null|           null|                 null|                 null|     ADDRESS|BRONX|    null|         null| Closed|12/30/2010 10:22:...|            See notes.|          12/28/2010 02:34:...|         12 BRONX|        null|  BRONX|                      null|                      null|                 PHONE|       Unspecified|       BRONX|        null|                null|                 null|               null|                    null|     null|                  null|             null|              null|                null|\n",
            "|11563785|  36308029|05/29/2017 07:37:...|05/29/2017 09:25:...|   DEP|Department of Env...|               Sewer|Street Flooding (SJ)|                null|        null|                null|             null|           null|           null|        PELHAM PKWY N|           CRUGER AVE|INTERSECTION| null|    null|         null| Closed|                null|  The Department of...|          05/29/2017 09:25:...|Unspecified BRONX|        null|  BRONX|                      null|                      null|                 PHONE|       Unspecified|       BRONX|        null|                null|                 null|               null|                    null|     null|                  null|             null|              null|                null|\n",
            "|19458572|  51057240|06/30/2021 12:25:...|06/30/2021 12:25:...|   DOT|Department of Tra...|Street Light Cond...|    Street Light Out|                null|        null|    CROSS BRONX EXPY| CROSS BRONX EXPY|   THIERIOT AVE|           null|                 null|                 null|   BLOCKFACE| null|    null|         null| Closed|                null|  Service Request s...|          06/29/2021 11:05:...|Unspecified BRONX|        null|  BRONX|                      null|                      null|               UNKNOWN|       Unspecified|       BRONX|        null|                null|                 null|               null|                    null|     null|                  null|             null|              null|                null|\n",
            "| 8707986|  41572777|01/31/2019 09:55:...|01/31/2019 09:55:...|   DOT|Department of Tra...|Street Light Cond...|Lamppost Base Doo...|                null|        null|      HUTCH RVR PKWY|   HUTCH RVR PKWY|         LEE ST|           null|                 null|                 null|   BLOCKFACE| null|    null|         null| Closed|                null|  Service Request s...|          01/30/2019 09:00:...|Unspecified BRONX|        null|  BRONX|                      null|                      null|               UNKNOWN|       Unspecified|       BRONX|        null|                null|                 null|               null|                    null|     null|                  null|             null|              null|                null|\n",
            "|18029239|  50954594|06/21/2021 01:42:...|07/22/2021 11:22:...|   DOT|Department of Tra...|Street Light Cond...|Lamppost Knocked ...|                null|        null|   MAJOR DEEGAN EXPY|MAJOR DEEGAN EXPY|       179 ST E|           null|                 null|                 null|   BLOCKFACE| null|    null|         null| Closed|                null|  Service Request s...|          07/22/2021 11:22:...|Unspecified BRONX|        null|  BRONX|                      null|                      null|               UNKNOWN|       Unspecified|       BRONX|        null|                null|                 null|               null|                    null|     null|                  null|             null|              null|                null|\n",
            "|21966552|  45459257|01/23/2020 10:23:...|01/27/2020 08:07:...|   DOT|Department of Tra...|Street Light Cond...|    Street Light Out|                null|        null|                null|             null|           null|           null|        H HUDSON PKWY|             230 ST W|INTERSECTION| null|    null|         null| Closed|                null|  \"Service Request ...|          01/27/2020 08:07:...|Unspecified BRONX|        null|  BRONX|                      null|                      null|               UNKNOWN|       Unspecified|       BRONX|        null|                null|                 null|               null|                    null|     null|                  null|             null|              null|                null|\n",
            "|10149512|  42535311|05/02/2019 03:13:...|05/02/2019 10:15:...|   DOT|Department of Tra...|Street Light Cond...|    Street Light Out|                null|        null|                null|             null|           null|           null|             157 ST E|       COURTLANDT AVE|INTERSECTION| null|    null|         null| Closed|                null|  Service Request s...|          05/02/2019 10:15:...|Unspecified BRONX|        null|  BRONX|                      null|                      null|               UNKNOWN|       Unspecified|       BRONX|        null|                null|                 null|               null|                    null|     null|                  null|             null|              null|                null|\n",
            "|  946278|  30970153|06/30/2015 10:32:...|06/23/2015 10:05:...|   DOT|Department of Tra...|Street Light Cond...|    Street Light Out|                null|        null|                null|             null|           null|           null|        BRUCKNER BLVD|         ROSEDALE AVE|INTERSECTION| null|    null|         null|Pending|                null|  Service Request s...|          06/23/2015 10:05:...|Unspecified BRONX|        null|  BRONX|                      null|                      null|               UNKNOWN|       Unspecified|       BRONX|        null|                null|                 null|               null|                    null|     null|                  null|             null|              null|                null|\n",
            "|23851340|  20787028|07/07/2011 02:25:...|07/08/2011 12:00:...|   DOT|Department of Tra...|Traffic Signal Co...|     Veh Signal Lamp|                null|        null|                null|             null|           null|           null|        CARPENTER AVE|             241 ST E|INTERSECTION| null|    null|         null| Closed|                null|  Service Request s...|          07/08/2011 12:00:...|Unspecified BRONX|        null|  BRONX|                      null|                      null|               UNKNOWN|       Unspecified|       BRONX|        null|                null|                 null|               null|                    null|     null|                  null|             null|              null|                null|\n",
            "|11892256|  18521538|08/19/2010 09:16:...|08/19/2010 09:16:...|   DOT|Department of Tra...|Street Light Cond...|    Street Light Out|                null|        null|                null|             null|           null|           null|           FOREST AVE|             158 ST E|INTERSECTION| null|    null|         null| Closed|                null|  Service Request s...|          08/18/2010 12:00:...|Unspecified BRONX|        null|  BRONX|                      null|                      null|               UNKNOWN|       Unspecified|       BRONX|        null|                null|                 null|               null|                    null|     null|                  null|             null|              null|                null|\n",
            "| 8616962|  40440883|10/02/2018 10:28:...|10/03/2018 12:05:...|   DOT|Department of Tra...|Traffic Signal Co...|          Controller|                null|        null|                null|             null|           null|           null|          WEBSTER AVE|             188 ST E|INTERSECTION| null|    null|         null| Closed|                null|  Service Request s...|          10/03/2018 12:05:...|Unspecified BRONX|        null|  BRONX|                      null|                      null|               UNKNOWN|       Unspecified|       BRONX|        null|                null|                 null|               null|                    null|     null|                  null|             null|              null|                null|\n",
            "|11209071|  26670160|11/12/2013 09:52:...|11/12/2013 12:05:...|   DOT|Department of Tra...|Traffic Signal Co...|          Controller|                null|        null|                null|             null|           null|           null|      CO OP CITY BLVD|         DREISER LOOP|INTERSECTION| null|    null|         null| Closed|                null|  Service Request s...|          11/12/2013 12:05:...|Unspecified BRONX|        null|  BRONX|                      null|                      null|               UNKNOWN|       Unspecified|       BRONX|        null|                null|                 null|               null|                    null|     null|                  null|             null|              null|                null|\n",
            "| 8673108|  40520120|10/11/2018 06:57:...|10/19/2018 11:45:...|   DOT|Department of Tra...|Street Light Cond...|    Street Light Out|                null|        null|        495 158 ST E|         158 ST E|       158 ST E|          3 AVE|             158 ST E|                3 AVE|INTERSECTION| null|    null|         null| Closed|                null|  Service Request s...|          10/19/2018 11:45:...|Unspecified BRONX|        null|  BRONX|                      null|                      null|               UNKNOWN|       Unspecified|       BRONX|        null|                null|                 null|               null|                    null|     null|                  null|             null|              null|                null|\n",
            "| 9181002|  41307778|12/17/2018 07:45:...|12/31/2018 04:04:...|   HPD|Department of Hou...|UNSANITARY CONDITION|                MOLD|RESIDENTIAL BUILDING|     10454.0|  124 ST ANNS AVENUE|   ST ANNS AVENUE|           null|           null|                 null|                 null|     ADDRESS|BRONX|    null|         null| Closed|                null|  The Department of...|          12/31/2018 04:04:...|         01 BRONX|2025460140.0|  BRONX|                 1006489.0|                  232106.0|                 PHONE|       Unspecified|       BRONX|        null|                null|                 null|               null|                    null|     null|                  null|40.80372528652983|-73.91967112150978|(40.8037252865298...|\n",
            "|24835289|  25334269|04/11/2013 02:16:...|04/11/2013 07:03:...|  NYPD|New York City Pol...| Noise - Residential|    Loud Music/Party|Residential Build...|       10454|165 SAINT ANNS AV...|SAINT ANNS AVENUE|EAST 135 STREET|EAST 137 STREET|                 null|                 null|     ADDRESS|BRONX|    null|     Precinct| Closed|04/11/2013 10:16:...|  The Police Depart...|          04/11/2013 07:03:...|         01 BRONX|2022630019.0|  BRONX|                 1006821.0|                  232722.0|                 PHONE|       Unspecified|       BRONX|        null|                null|                 null|               null|                    null|     null|                  null| 40.8054151944891|-73.91846984322694|(40.8054151944891...|\n",
            "| 4716127|  35522296|02/18/2017 04:04:...|03/06/2017 09:43:...|   HPD|Department of Hou...|           APPLIANCE|  ELECTRIC/GAS RANGE|RESIDENTIAL BUILDING|     10454.0|   614 BEECH TERRACE|    BEECH TERRACE|           null|           null|                 null|                 null|     ADDRESS|BRONX|    null|         null| Closed|                null|  The Department of...|          03/06/2017 09:43:...|         01 BRONX|2025550042.0|  BRONX|                 1008112.0|                  234189.0|                 PHONE|       Unspecified|       BRONX|        null|                null|                 null|               null|                    null|     null|                  null| 40.8094383098551|  -73.913801327813|(40.8094383098551...|\n",
            "|15546531|  23805218|08/14/2012 12:00:...|08/20/2012 12:00:...|   HPD|Department of Hou...|            NONCONST|             RUBBISH|RESIDENTIAL BUILDING|     10454.0| 403 EAST 139 STREET|  EAST 139 STREET|  WILLIS AVENUE|   BROOK AVENUE|                 null|                 null|     ADDRESS|BRONX|    null|         null| Closed|                null|  The Department of...|          08/20/2012 12:00:...|         01 BRONX|2022840120.0|  BRONX|                 1005896.0|                  234224.0|                 PHONE|       Unspecified|       BRONX|        null|                null|                 null|               null|                    null|     null|                  null|40.80954008239561|-73.92180625019235|(40.8095400823956...|\n",
            "+--------+----------+--------------------+--------------------+------+--------------------+--------------------+--------------------+--------------------+------------+--------------------+-----------------+---------------+---------------+---------------------+---------------------+------------+-----+--------+-------------+-------+--------------------+----------------------+------------------------------+-----------------+------------+-------+--------------------------+--------------------------+----------------------+------------------+------------+------------+--------------------+---------------------+-------------------+------------------------+---------+----------------------+-----------------+------------------+--------------------+\n",
            "only showing top 20 rows\n",
            "\n"
          ]
        }
      ]
    },
    {
      "cell_type": "markdown",
      "source": [
        "######Making Null's Consistent across dataset"
      ],
      "metadata": {
        "id": "Tgnk14mgPO-b"
      }
    },
    {
      "cell_type": "markdown",
      "source": [
        "Data contains Unknown value not in in the form of Nan,nulls but also with values 'Unspecified' and 'UNKOWN' .\n",
        "We are replacing this values with nulls to make sure it's consistent across dataset."
      ],
      "metadata": {
        "id": "JEkqi74BK5oO"
      }
    },
    {
      "cell_type": "code",
      "source": [
        "''' Replace Unspecified and UNKOWN value with nulls'''\n",
        "def replace(column, value):\n",
        "    return when(column != value, column).otherwise(lit(None))\n",
        "\n",
        "df_311 = df_311.withColumn(\"Park Facility Name\", replace(col(\"Park Facility Name\"), \"Unspecified\"))\n",
        "df_311 = df_311.withColumn(\"Open Data Channel Type\", replace(col(\"Open Data Channel Type\"), \"UNKNOWN\"))\n",
        "\n",
        "df_311.show()"
      ],
      "metadata": {
        "id": "ZXZS-WyWwZZO",
        "colab": {
          "base_uri": "https://localhost:8080/"
        },
        "outputId": "97133e39-c731-4beb-b21d-4b041b9198cd"
      },
      "execution_count": null,
      "outputs": [
        {
          "output_type": "stream",
          "name": "stdout",
          "text": [
            "+--------+----------+--------------------+--------------------+------+--------------------+--------------------+--------------------+--------------------+------------+--------------------+-------------------+-----------------+---------------+---------------------+---------------------+------------+-------------------+--------+-------------+-------+--------------------+----------------------+------------------------------+--------------------+------------+-------------+--------------------------+--------------------------+----------------------+------------------+-------------+------------+--------------------+---------------------+-------------------+------------------------+---------+----------------------+------------------+------------------+--------------------+\n",
            "|     _c0|Unique Key|        Created Date|         Closed Date|Agency|         Agency Name|      Complaint Type|          Descriptor|       Location Type|Incident Zip|    Incident Address|        Street Name|   Cross Street 1| Cross Street 2|Intersection Street 1|Intersection Street 2|Address Type|               City|Landmark|Facility Type| Status|            Due Date|Resolution Description|Resolution Action Updated Date|     Community Board|         BBL|      Borough|X Coordinate (State Plane)|Y Coordinate (State Plane)|Open Data Channel Type|Park Facility Name| Park Borough|Vehicle Type|Taxi Company Borough|Taxi Pick Up Location|Bridge Highway Name|Bridge Highway Direction|Road Ramp|Bridge Highway Segment|          Latitude|         Longitude|            Location|\n",
            "+--------+----------+--------------------+--------------------+------+--------------------+--------------------+--------------------+--------------------+------------+--------------------+-------------------+-----------------+---------------+---------------------+---------------------+------------+-------------------+--------+-------------+-------+--------------------+----------------------+------------------------------+--------------------+------------+-------------+--------------------------+--------------------------+----------------------+------------------+-------------+------------+--------------------+---------------------+-------------------+------------------------+---------+----------------------+------------------+------------------+--------------------+\n",
            "| 1161152|  31247536|08/05/2015 06:35:...|08/19/2015 09:09:...|   DPR|Department of Par...|Root/Sewer/Sidewa...|Sidewalk Consulta...|              Street|     11360.0|    214-09 23 AVENUE|          23 AVENUE|   BELL BOULEVARD|     215 STREET|                 null|                 null|     ADDRESS|            BAYSIDE|    null|         null| Closed|09/04/2015 06:35:...|  The agency has ma...|          08/19/2015 08:58:...|           07 QUEENS|4059500008.0|       QUEENS|                 1046185.0|                  224448.0|                 PHONE|              null|       QUEENS|        null|                null|                 null|               null|                    null|     null|                  null|40.782517127277416|-73.77635733957257|(40.7825171272774...|\n",
            "|19331004|  49902206|03/01/2021 11:22:...|03/02/2021 05:31:...|   HPD|Department of Hou...|      HEAT/HOT WATER|      APARTMENT ONLY|RESIDENTIAL BUILDING|     11691.0|51-24 BEACH CHANN...|BEACH CHANNEL DRIVE|             null|           null|                 null|                 null|     ADDRESS|       Far Rockaway|    null|         null| Closed|                null|  The Department of...|          03/02/2021 12:00:...|           14 QUEENS|4160010002.0|       QUEENS|                 1044756.0|                  156219.0|                ONLINE|              null|       QUEENS|        null|                null|                 null|               null|                    null|     null|                  null| 40.59525476424622|-73.78213009462443|(40.5952547642462...|\n",
            "|20420950|  26123456|08/14/2013 03:51:...|08/21/2013 08:00:...|   DOF|Refunds and Adjus...|DOF Property - Pa...|Property Refunds ...|    Property Address|     11216.0|                null|               null|             null|           null|                 null|                 null|     ADDRESS|           BROOKLYN|    null|         null| Closed|08/24/2013 03:51:...|            See notes.|          08/21/2013 08:00:...|         03 BROOKLYN|        null|     BROOKLYN|                      null|                      null|                 PHONE|              null|     BROOKLYN|        null|                null|                 null|               null|                    null|     null|                  null|              null|              null|                null|\n",
            "|22013676|  37085573|08/31/2017 02:40:...|09/01/2017 12:55:...|   DOT|Department of Tra...|    Street Condition|             Pothole|                null|     11413.0|                null|               null|       143 AVENUE|     232 STREET|           143 AVENUE|           232 STREET|INTERSECTION|Springfield Gardens|    null|         null| Closed|                null|  The Department of...|          09/01/2017 12:55:...|           13 QUEENS|        null|       QUEENS|                 1055188.0|                  181556.0|                  null|              null|       QUEENS|        null|                null|                 null|               null|                    null|     null|                  null| 40.66472182521037|-73.74430045066177|(40.6647218252103...|\n",
            "|11790222|  16279399|03/22/2010 02:46:...|03/22/2010 05:30:...|   DOT|Department of Tra...|Traffic Signal Co...|          Controller|                null|        null|                null|               null|             null|           null|            NAGLE AVE|           DYCKMAN ST|INTERSECTION|               null|    null|         null| Closed|                null|  Service Request s...|          03/22/2010 12:00:...|Unspecified MANHA...|        null|    MANHATTAN|                      null|                      null|                  null|              null|    MANHATTAN|        null|                null|                 null|               null|                    null|     null|                  null|              null|              null|                null|\n",
            "|   43460|  29813597|01/28/2015 12:00:...|01/30/2015 12:00:...|   HPD|Department of Hou...|            ELECTRIC|              WIRING|RESIDENTIAL BUILDING|     10475.0|2180 DE REIMER AV...|   DE REIMER AVENUE|    ERSKINE PLACE| BASSETT AVENUE|                 null|                 null|     ADDRESS|              BRONX|    null|         null| Closed|                null|  The Department of...|          01/30/2015 12:00:...|            10 BRONX|2051330200.0|        BRONX|                 1032292.0|                  252603.0|                 PHONE|              null|        BRONX|        null|                null|                 null|               null|                    null|     null|                  null| 40.85988092738689|-73.82632220420537|(40.8598809273868...|\n",
            "|25808990|  28112590|05/24/2014 06:41:...|06/25/2014 09:20:...|   DOT|Department of Tra...|    Street Condition|             Pothole|                null|       10457|248 EAST  174 STREET|   EAST  174 STREET|    MONROE AVENUE|   WEEKS AVENUE|                 null|                 null|     ADDRESS|              BRONX|    null|         null| Closed|                null|  The Department of...|          06/25/2014 09:20:...|   Unspecified BRONX|2027920040.0|        BRONX|                 1010019.0|                  247035.0|                  null|              null|        BRONX|        null|                null|                 null|               null|                    null|     null|                  null| 40.84469153995725|-73.90686318005753|(40.8446915399572...|\n",
            "| 1572073|  31773174|10/17/2015 11:14:...|10/18/2015 03:20:...|  NYPD|New York City Pol...| Noise - Residential|    Loud Music/Party|Residential Build...|     11206.0|                null|               null|             null|           null|       FAYETTE STREET|        BEAVER STREET|INTERSECTION|           BROOKLYN|    null|     Precinct| Closed|10/18/2015 07:14:...|  The Police Depart...|          10/18/2015 03:19:...|         04 BROOKLYN|        null|     BROOKLYN|                 1001096.0|                  194713.0|                 PHONE|              null|     BROOKLYN|        null|                null|                 null|               null|                    null|     null|                  null| 40.70110293890009|-73.93924469941925|(40.7011029389000...|\n",
            "| 3211368|  33777867|07/07/2016 09:28:...|07/09/2016 04:10:...|  NYPD|New York City Pol...|     Illegal Parking|Commercial Overni...|     Street/Sidewalk|     10466.0|                null|               null|             null|           null|       LACONIA AVENUE|     EAST  227 STREET|INTERSECTION|              BRONX|    null|     Precinct| Closed|07/08/2016 05:28:...|  The Police Depart...|          07/09/2016 04:10:...|            12 BRONX|        null|        BRONX|                 1026179.0|                  261966.0|                 PHONE|              null|        BRONX|        null|                null|                 null|               null|                    null|     null|                  null| 40.88561059940042|-73.84836281696182|(40.8856105994004...|\n",
            "|22862851|  16029464|02/18/2010 09:36:...|                null| DOHMH|Department of Hea...|              Rodent|Condition Attract...|3+ Family Mixed U...|     11206.0|   138 GRAHAM AVENUE|      GRAHAM AVENUE|    BOERUM STREET| JOHNSON AVENUE|                 null|                 null|     ADDRESS|           BROOKLYN|    null|         null|Pending|03/20/2010 09:36:...|  Please contact th...|          02/18/2010 09:46:...|         01 BROOKLYN|3030710004.0|     BROOKLYN|                 1000052.0|                  196563.0|                 PHONE|              null|     BROOKLYN|        null|                null|                 null|               null|                    null|     null|                  null| 40.70618267902816|-73.94300555570015|(40.7061826790281...|\n",
            "| 2551115|  32985274|03/25/2016 05:30:...|03/26/2016 12:00:...|  DSNY|   Brooklyn North 03|Sanitation Condition|15 Street Cond/Du...|              Street|     11205.0|     825 KENT AVENUE|        KENT AVENUE|      PARK AVENUE|  MYRTLE AVENUE|                 null|                 null|     ADDRESS|           BROOKLYN|    null|  DSNY Garage| Closed|                null|  The Department of...|          03/26/2016 12:00:...|         03 BROOKLYN|3018980022.0|     BROOKLYN|                  995446.0|                  192767.0|                MOBILE|              null|     BROOKLYN|        null|                null|                 null|               null|                    null|     null|                  null|  40.6957705753275|-73.95962472327192|(40.6957705753275...|\n",
            "|16232947|  25998315|07/23/2013 04:37:...|07/26/2013 12:00:...|  DSNY|        Lot Cleaning|          Vacant Lot|8 Request to Clea...|                 Lot|     10303.0|                null|               null|NETHERLAND AVENUE|VAN NAME AVENUE|    NETHERLAND AVENUE|      VAN NAME AVENUE|INTERSECTION|      STATEN ISLAND|    null|         null|Pending|                null|  The Department of...|          07/26/2013 12:00:...|    01 STATEN ISLAND|        null|STATEN ISLAND|                  941469.0|                  168273.0|                 PHONE|              null|STATEN ISLAND|        null|                null|                 null|               null|                    null|     null|                  null| 40.62844374196343|-74.15412228022673|(40.6284437419634...|\n",
            "|12284100|  22802998|03/01/2012 02:39:...|03/01/2012 02:39:...|   DOT|Department of Tra...|Street Light Cond...|Time Clock Maladj...|                null|        null|    SPRINGFIELD PARK|   SPRINGFIELD PARK|           145 RD|         148 ST|                 null|                 null|   BLOCKFACE|               null|    null|         null| Closed|                null|  Service Request s...|          02/29/2012 02:39:...|  Unspecified QUEENS|        null|       QUEENS|                      null|                      null|                  null|              null|       QUEENS|        null|                null|                 null|               null|                    null|     null|                  null|              null|              null|                null|\n",
            "|21726769|  23538503|07/02/2012 12:30:...|                null| DOHMH|Department of Hea...|      Standing Water|Swimming Pool - U...| 1-2 Family Dwelling|     11436.0|141-16 LINDEN BOU...|   LINDEN BOULEVARD|       141 STREET|     142 STREET|                 null|                 null|     ADDRESS|            JAMAICA|    null|         null|   Open|08/01/2012 12:30:...|  The Department of...|                          null|           12 QUEENS|4119710007.0|       QUEENS|                 1039073.0|                  188501.0|                 PHONE|              null|       QUEENS|        null|                null|                 null|               null|                    null|     null|                  null| 40.68389868905372| -73.8023310537135|(40.6838986890537...|\n",
            "|10994767|  25830439|06/27/2013 04:30:...|06/27/2013 05:43:...|  NYPD|New York City Pol...| Noise - Residential|    Loud Music/Party|Residential Build...|       10009|   525 EAST 6 STREET|      EAST 6 STREET|         AVENUE A|       AVENUE B|                 null|                 null|     ADDRESS|           NEW YORK|    null|     Precinct| Closed|06/27/2013 12:30:...|  The Police Depart...|          06/27/2013 05:43:...|        03 MANHATTAN|1004020053.0|    MANHATTAN|                  988904.0|                  203474.0|                 PHONE|              null|    MANHATTAN|        null|                null|                 null|               null|                    null|     null|                  null|40.725164605961695|-73.98320923433049|(40.7251646059616...|\n",
            "|14081014|  19751481|02/03/2011 01:25:...|02/01/2011 09:32:...|   DOT|Department of Tra...|Street Light Cond...|    Street Light Out|                null|     10452.0|                null|               null|             null|           null|    CLARKE PLACE EAST|        WALTON AVENUE|INTERSECTION|              BRONX|    null|         null|Pending|                null|  Service Request s...|          02/01/2011 09:32:...|            04 BRONX|        null|        BRONX|                 1007111.0|                  244501.0|                  null|              null|        BRONX|        null|                null|                 null|               null|                    null|     null|                  null| 40.83774445978676|-73.91738218717425|(40.8377444597867...|\n",
            "|22851720|  16003461|02/14/2010 03:26:...|02/14/2010 03:26:...|  DSNY|   BCC - Queens West|                Snow|15S Re-Plow/Sprea...|              Street|     11416.0|    97-41 101 STREET|         101 STREET|        97 AVENUE|     101 AVENUE|                 null|                 null|     ADDRESS|         OZONE PARK|    null|  DSNY Garage| Closed|                null|  The Department of...|          02/14/2010 12:00:...|           09 QUEENS|4094030036.0|       QUEENS|                 1027986.0|                  189584.0|                 PHONE|              null|       QUEENS|        null|                null|                 null|               null|                    null|     null|                  null| 40.68693299813197|-73.84229903929199|(40.6869329981319...|\n",
            "| 3526434|  34117283|08/18/2016 02:11:...|08/18/2016 06:10:...|   DEP|Department of Env...|               Sewer|Sewer Backup (Use...|                null|       11691|  14-25 PEARL STREET|       PEARL STREET|       ENRIGHT RD|           null|                 null|                 null|     ADDRESS|       Far Rockaway|    null|         null| Closed|                null|  The Department of...|          08/18/2016 06:10:...|           14 QUEENS|4156570042.0|       QUEENS|                 1051071.0|                  161528.0|                 PHONE|              null|       QUEENS|        null|                null|                 null|               null|                    null|     null|                  null| 40.60978147396243|-73.75933864178711|(40.6097814739624...|\n",
            "| 1375273|  31523548|09/13/2015 06:48:...|                null| DOHMH|Department of Hea...|  Food Establishment|Food Preparation ...|Restaurant/Bar/De...|       11432|    84-45 164 STREET|         164 STREET|         84 DRIVE|      85 AVENUE|                 null|                 null|     ADDRESS|            JAMAICA|    null|         null|Pending|10/20/2015 06:48:...|  The Department of...|          09/14/2015 10:35:...|           08 QUEENS|4098540003.0|       QUEENS|                 1039206.0|                  199231.0|                 PHONE|              null|       QUEENS|        null|                null|                 null|               null|                    null|     null|                  null| 40.71334913647706|-73.80176396047963|(40.7133491364770...|\n",
            "|11554050|  36137031|05/08/2017 09:23:...|05/15/2017 03:06:...|   DOF|Personal Exemptio...|DOF Property - Re...|Personal SCHE Exe...|1-, 2- and 3- Fam...|       11219|                null|               null|             null|           null|                 null|                 null|     ADDRESS|           BROOKLYN|    null|         null| Closed|05/13/2017 09:23:...|            See notes.|          05/15/2017 03:06:...|         12 BROOKLYN|        null|     BROOKLYN|                      null|                      null|                 PHONE|              null|     BROOKLYN|        null|                null|                 null|               null|                    null|     null|                  null|              null|              null|                null|\n",
            "+--------+----------+--------------------+--------------------+------+--------------------+--------------------+--------------------+--------------------+------------+--------------------+-------------------+-----------------+---------------+---------------------+---------------------+------------+-------------------+--------+-------------+-------+--------------------+----------------------+------------------------------+--------------------+------------+-------------+--------------------------+--------------------------+----------------------+------------------+-------------+------------+--------------------+---------------------+-------------------+------------------------+---------+----------------------+------------------+------------------+--------------------+\n",
            "only showing top 20 rows\n",
            "\n"
          ]
        }
      ]
    },
    {
      "cell_type": "markdown",
      "source": [
        "######Dimensionality Reduction"
      ],
      "metadata": {
        "id": "qQoVFoy1O-su"
      }
    },
    {
      "cell_type": "markdown",
      "source": [
        "As seen in profiling there are many column which has null or unspecifed values and hence will be of no use for future analysis . Hence we are removing the columns where more than 50% of data is null."
      ],
      "metadata": {
        "id": "8ry6-SgsLj9C"
      }
    },
    {
      "cell_type": "code",
      "source": [
        "''' Drop columns with more than 50% of rows being null'''\n",
        "\n",
        "import pyspark.sql.functions as F\n",
        "def drop_null_columns(df):\n",
        "    \"\"\"\n",
        "    This function drops all columns which contain null values.\n",
        "    :param df: A PySpark DataFrame\n",
        "    \"\"\"\n",
        "    total_rows = df.count()\n",
        "    null_counts = df.select([F.count(F.when(F.col(c).isNull(), c)).alias(c) for c in df.columns]).collect()[0].asDict()\n",
        "    to_drop = [k for k, v in null_counts.items() if v > (0.5*total_rows)]\n",
        "    print('to_drop:{}'.format(to_drop))\n",
        "    df = df.drop(*to_drop)\n",
        "    return df\n",
        "\n",
        "df_311= drop_null_columns(df_311)"
      ],
      "metadata": {
        "id": "U3jvc8b6wzgq",
        "colab": {
          "base_uri": "https://localhost:8080/"
        },
        "outputId": "40d9115d-1b0b-4eed-b5af-5f7d5bb4f9f3"
      },
      "execution_count": null,
      "outputs": [
        {
          "output_type": "stream",
          "name": "stdout",
          "text": [
            "to_drop:['Intersection Street 1', 'Intersection Street 2', 'Landmark', 'Facility Type', 'Due Date', 'Park Facility Name', 'Vehicle Type', 'Taxi Company Borough', 'Taxi Pick Up Location', 'Bridge Highway Name', 'Bridge Highway Direction', 'Road Ramp', 'Bridge Highway Segment']\n"
          ]
        }
      ]
    },
    {
      "cell_type": "markdown",
      "source": [
        "There are some duplicate columns like \n",
        "\n",
        "*   Location - Combination of Longitude and Latitude Columns\n",
        "*   Park Borough - Same as Borough Column \n",
        "\n",
        "So we are removing this column as part of dimensionality reduction."
      ],
      "metadata": {
        "id": "Ie0B86_bL7BD"
      }
    },
    {
      "cell_type": "code",
      "source": [
        "''' Drop duplicate and unnecessary Columns'''\n",
        "\n",
        "df_311=df_311.drop('Location')\n",
        "df_311=df_311.drop('Park Borough')\n",
        "df_311 = df_311.drop(\"_c0\")"
      ],
      "metadata": {
        "id": "Lgn-ASSU_SLW"
      },
      "execution_count": null,
      "outputs": []
    },
    {
      "cell_type": "markdown",
      "source": [
        "###Creating Spark SQL View"
      ],
      "metadata": {
        "id": "PU0OCVSePoqW"
      }
    },
    {
      "cell_type": "markdown",
      "source": [
        "After the Dimensionality Reduction we now require to clean data according to respective Column and spark sql could be great use to analyze data."
      ],
      "metadata": {
        "id": "wd4lZeKVMsFe"
      }
    },
    {
      "cell_type": "code",
      "source": [
        "df_311.createOrReplaceTempView(\"df_311\")"
      ],
      "metadata": {
        "id": "8qJH0oBwa-qy"
      },
      "execution_count": null,
      "outputs": []
    },
    {
      "cell_type": "markdown",
      "source": [
        "\n",
        "###Cleaning DATE Columns"
      ],
      "metadata": {
        "id": "bWUBjr443T6-"
      }
    },
    {
      "cell_type": "markdown",
      "source": [
        "In our dataset we have 3 Date Coloumns \n",
        "1.   Created Date\n",
        "2.   Closed Date\n",
        "3.   Resolution Action Updated Date\n"
      ],
      "metadata": {
        "id": "IfVAYg8yQRzG"
      }
    },
    {
      "cell_type": "markdown",
      "source": [
        "i. We remove all entries where the closed date, resolution action action date both are null and status is either closed or null"
      ],
      "metadata": {
        "id": "Pq3Zf16HQt4A"
      }
    },
    {
      "cell_type": "code",
      "source": [
        "df_311 = spark.sql(\"SELECT * FROM df_311 where `Closed Date` is not null and (status is not null or status!='Closed') and `Resolution Action Updated Date` is not null\")"
      ],
      "metadata": {
        "id": "kDCrLBMAw4by"
      },
      "execution_count": null,
      "outputs": []
    },
    {
      "cell_type": "markdown",
      "source": [
        "ii. We fill the missing closed date values based on the resolution action update date and vice versa"
      ],
      "metadata": {
        "id": "Nvy4QvMOQ1hS"
      }
    },
    {
      "cell_type": "code",
      "source": [
        "df_311=df_311.withColumn(\"Closed Date\", when((col(\"Closed Date\").isNull()) & (col(\"Status\")=='Closed') &(col(\"Resolution Action Updated Date\").isNotNull()),col(\"Resolution Action Updated Date\")).otherwise(col(\"Closed Date\")))\n",
        "df_311=df_311.withColumn(\"Resolution Action Updated Date\", when((col(\"Resolution Action Updated Date\").isNull()) & (col(\"Closed Date\").isNotNull()),col(\"Closed Date\")).otherwise(col(\"Resolution Action Updated Date\")))"
      ],
      "metadata": {
        "id": "pzuOz7xfbdJX"
      },
      "execution_count": null,
      "outputs": []
    },
    {
      "cell_type": "markdown",
      "source": [
        "iii. Remove all entries where closed date < created date and created date > current date"
      ],
      "metadata": {
        "id": "uVbfQyDhRRK7"
      }
    },
    {
      "cell_type": "code",
      "source": [
        "spark.sql(\"set spark.sql.legacy.timeParserPolicy=LEGACY\")\n",
        "df_311.createOrReplaceTempView(\"df_311_closed_date\")\n",
        "df_311=spark.sql(\"select * from df_311_closed_date where to_date(`closed date`,'MM/dd/yyyy')>=to_date(`created date`,'MM/dd/yyyy')\")\n",
        "df_311=spark.sql(\"select * from df_311_closed_date where to_date(`created date`,'MM/dd/yyyy')<=now() or to_date(`closed date`,'MM/dd/yyyy')<=now()\")"
      ],
      "metadata": {
        "id": "tp1o4o8EbraP"
      },
      "execution_count": null,
      "outputs": []
    },
    {
      "cell_type": "markdown",
      "source": [
        "### Cleaning AGENCY and AGENCY NAME Columns"
      ],
      "metadata": {
        "id": "2fdg4goz3XTb"
      }
    },
    {
      "cell_type": "markdown",
      "source": [
        "In the Below outputs we find that **\"MAYORâ\\x80\\x99S OFFICE OF SPECIAL ENFORCEMENT\"** in agency should have been **\"OSE\"** as short form and **\"Mayor's Special Office of Enforcement\"** as complete Agency Name.\n",
        "\n"
      ],
      "metadata": {
        "id": "42kknfh7RmwM"
      }
    },
    {
      "cell_type": "code",
      "source": [
        "df_311.select(\"Agency\").distinct().show()"
      ],
      "metadata": {
        "id": "UtoebGzNw56l",
        "colab": {
          "base_uri": "https://localhost:8080/"
        },
        "outputId": "fed0323e-9fe3-43f8-e2ee-99bdee2dad21"
      },
      "execution_count": null,
      "outputs": [
        {
          "output_type": "stream",
          "name": "stdout",
          "text": [
            "+--------------------+\n",
            "|              Agency|\n",
            "+--------------------+\n",
            "|               NYCEM|\n",
            "|MAYORâS OFFICE ...|\n",
            "|                 DOT|\n",
            "|                 HPD|\n",
            "|                 DCA|\n",
            "|                 DPR|\n",
            "|                 TLC|\n",
            "|                 EDC|\n",
            "|                 DOF|\n",
            "|               DORIS|\n",
            "|               3-1-1|\n",
            "|                NYPD|\n",
            "|                 DOB|\n",
            "|                DFTA|\n",
            "|                 DEP|\n",
            "|                 DOE|\n",
            "|               DOHMH|\n",
            "|                DSNY|\n",
            "|                 DHS|\n",
            "|               DOITT|\n",
            "+--------------------+\n",
            "\n"
          ]
        }
      ]
    },
    {
      "cell_type": "code",
      "source": [
        "df_311.select(\"Agency Name\").distinct().show()"
      ],
      "metadata": {
        "id": "AcPoswfEw7sw",
        "colab": {
          "base_uri": "https://localhost:8080/"
        },
        "outputId": "0d18ec7c-f6ac-4d54-e1b2-dde4a95317ca"
      },
      "execution_count": null,
      "outputs": [
        {
          "output_type": "stream",
          "name": "stdout",
          "text": [
            "+--------------------+\n",
            "|         Agency Name|\n",
            "+--------------------+\n",
            "|      Exemption Unit|\n",
            "|School - PS 200 B...|\n",
            "|Department of Env...|\n",
            "|        Manhattan 02|\n",
            "|School - Metropol...|\n",
            "|School - PS 199 J...|\n",
            "|   Brooklyn South 10|\n",
            "|School - PS 81 Th...|\n",
            "|BCC - Brooklyn North|\n",
            "|School - JHS 8 Ri...|\n",
            "|       A - Manhattan|\n",
            "|School - Fort Gre...|\n",
            "|School - PS 116 E...|\n",
            "|School - William ...|\n",
            "|School - School f...|\n",
            "|Economic Developm...|\n",
            "|School - Stuyvesa...|\n",
            "|Taxi and Limousin...|\n",
            "|School - PS 50 Vi...|\n",
            "|School - PS 105 S...|\n",
            "+--------------------+\n",
            "only showing top 20 rows\n",
            "\n"
          ]
        }
      ]
    },
    {
      "cell_type": "markdown",
      "source": [
        "Befor Cleaning Agency and Agency Name Visualization"
      ],
      "metadata": {
        "id": "gkClt5xBZzex"
      }
    },
    {
      "cell_type": "code",
      "source": [
        "from pyspark.sql.window import Window\n",
        "agency_counts = df_311.groupBy(\"Agency\").count().orderBy(\"count\",ascending=False)\n",
        "agency_counts.show()"
      ],
      "metadata": {
        "id": "qJX0hcUuZkjf",
        "colab": {
          "base_uri": "https://localhost:8080/"
        },
        "outputId": "706f7ed5-de8e-40f3-bd15-e60fa1aa0d4e"
      },
      "execution_count": null,
      "outputs": [
        {
          "output_type": "stream",
          "name": "stdout",
          "text": [
            "+--------------------+------+\n",
            "|              Agency| count|\n",
            "+--------------------+------+\n",
            "|                NYPD|382606|\n",
            "|                 HPD|331687|\n",
            "|                 DOT|171203|\n",
            "|                DSNY|107311|\n",
            "|                 DEP| 99371|\n",
            "|                 DOB| 67736|\n",
            "|                 DPR| 47069|\n",
            "|               DOHMH| 25847|\n",
            "|                 DOF| 25172|\n",
            "|                 TLC| 12705|\n",
            "|                 DCA| 12573|\n",
            "|                 DHS| 11882|\n",
            "|                DFTA|  4779|\n",
            "|MAYORâS OFFICE ...|  3460|\n",
            "|                 EDC|  1207|\n",
            "|                 DOE|  1029|\n",
            "|               NYCEM|   423|\n",
            "|               DOITT|   367|\n",
            "|               3-1-1|   272|\n",
            "|               DORIS|     3|\n",
            "+--------------------+------+\n",
            "\n"
          ]
        }
      ]
    },
    {
      "cell_type": "code",
      "source": [
        "agency_percentage = agency_counts.withColumn(\"percent\", f.col('count')*100/f.sum('count').over(Window.partitionBy())) \n",
        "agency_percentage.orderBy('percent', ascending=False).show()"
      ],
      "metadata": {
        "id": "1OJ_WmbLZvns",
        "colab": {
          "base_uri": "https://localhost:8080/",
          "height": 182
        },
        "outputId": "fa0598a7-d01e-4f0d-d4e8-9c9ee1dea247"
      },
      "execution_count": null,
      "outputs": [
        {
          "output_type": "error",
          "ename": "NameError",
          "evalue": "ignored",
          "traceback": [
            "\u001b[0;31m---------------------------------------------------------------------------\u001b[0m",
            "\u001b[0;31mNameError\u001b[0m                                 Traceback (most recent call last)",
            "\u001b[0;32m<ipython-input-56-b76a4c2d2281>\u001b[0m in \u001b[0;36m<module>\u001b[0;34m()\u001b[0m\n\u001b[0;32m----> 1\u001b[0;31m \u001b[0magency_percentage\u001b[0m \u001b[0;34m=\u001b[0m \u001b[0magency_counts\u001b[0m\u001b[0;34m.\u001b[0m\u001b[0mwithColumn\u001b[0m\u001b[0;34m(\u001b[0m\u001b[0;34m\"percent\"\u001b[0m\u001b[0;34m,\u001b[0m \u001b[0mf\u001b[0m\u001b[0;34m.\u001b[0m\u001b[0mcol\u001b[0m\u001b[0;34m(\u001b[0m\u001b[0;34m'count'\u001b[0m\u001b[0;34m)\u001b[0m\u001b[0;34m*\u001b[0m\u001b[0;36m100\u001b[0m\u001b[0;34m/\u001b[0m\u001b[0mf\u001b[0m\u001b[0;34m.\u001b[0m\u001b[0msum\u001b[0m\u001b[0;34m(\u001b[0m\u001b[0;34m'count'\u001b[0m\u001b[0;34m)\u001b[0m\u001b[0;34m.\u001b[0m\u001b[0mover\u001b[0m\u001b[0;34m(\u001b[0m\u001b[0mWindow\u001b[0m\u001b[0;34m.\u001b[0m\u001b[0mpartitionBy\u001b[0m\u001b[0;34m(\u001b[0m\u001b[0;34m)\u001b[0m\u001b[0;34m)\u001b[0m\u001b[0;34m)\u001b[0m\u001b[0;34m\u001b[0m\u001b[0;34m\u001b[0m\u001b[0m\n\u001b[0m\u001b[1;32m      2\u001b[0m \u001b[0magency_percentage\u001b[0m\u001b[0;34m.\u001b[0m\u001b[0morderBy\u001b[0m\u001b[0;34m(\u001b[0m\u001b[0;34m'percent'\u001b[0m\u001b[0;34m,\u001b[0m \u001b[0mascending\u001b[0m\u001b[0;34m=\u001b[0m\u001b[0;32mFalse\u001b[0m\u001b[0;34m)\u001b[0m\u001b[0;34m.\u001b[0m\u001b[0mshow\u001b[0m\u001b[0;34m(\u001b[0m\u001b[0;34m)\u001b[0m\u001b[0;34m\u001b[0m\u001b[0;34m\u001b[0m\u001b[0m\n",
            "\u001b[0;31mNameError\u001b[0m: name 'f' is not defined"
          ]
        }
      ]
    },
    {
      "cell_type": "markdown",
      "source": [
        "Below code makes the required changes"
      ],
      "metadata": {
        "id": "KtIPViw0SvEL"
      }
    },
    {
      "cell_type": "code",
      "source": [
        "df_311 = df_311.withColumn(\"Agency\", when(df_311.Agency == 'MAYORâ\\x80\\x99S OFFICE OF SPECIAL ENFORCEMENT',\"OSE\").otherwise(df_311.Agency))\n",
        "df_311 = df_311.withColumn(\"Agency Name\",when(df_311[\"Agency Name\"][0:6] == \"Mayorâ\", \"Mayor's Special Office of Enforcement\").otherwise(df_311[\"Agency Name\"]))"
      ],
      "metadata": {
        "id": "BwWPTJ2Iw_bC"
      },
      "execution_count": null,
      "outputs": []
    },
    {
      "cell_type": "markdown",
      "source": [
        "These columns are now having consitent and clean data"
      ],
      "metadata": {
        "id": "nzqneF9iSz_n"
      }
    },
    {
      "cell_type": "code",
      "source": [
        "df_311.select(\"Agency\", \"Agency Name\").filter(df_311[\"Agency\"] == \"OSE\").show(20,False)"
      ],
      "metadata": {
        "id": "1lwTAOe85_IS"
      },
      "execution_count": null,
      "outputs": []
    },
    {
      "cell_type": "markdown",
      "source": [
        "Below we are Trying to check the Functional dependancy between Agency and Agency Name i.e, a single agency can have many Agency Name but Agency name only corresponds to single Agency. \n",
        "We do not find any conflicts so no more cleaning is required."
      ],
      "metadata": {
        "id": "J2CnbUVW1LzW"
      }
    },
    {
      "cell_type": "code",
      "source": [
        "df_311.groupBy(\"Agency Name\").agg(countDistinct(\"Agency\")).show(2000, False)"
      ],
      "metadata": {
        "id": "A4FDKifw0h2r"
      },
      "execution_count": null,
      "outputs": []
    },
    {
      "cell_type": "markdown",
      "source": [
        "### Cleaning COMPLAINT TYPE Column"
      ],
      "metadata": {
        "id": "0c9UL96c6vYS"
      }
    },
    {
      "cell_type": "code",
      "source": [
        "df_311.groupBy(\"Complaint Type\").count().sort(desc(\"count\")).show(2000, False)"
      ],
      "metadata": {
        "id": "blbcnJgt6y8l"
      },
      "execution_count": null,
      "outputs": []
    },
    {
      "cell_type": "markdown",
      "source": [
        "To make analysis easier we tried to group some of the above Complaint types in a single group for example in above output we have \n",
        "\n",
        "1.   Noise                                    \n",
        "2.   Noise - Commercial                       \n",
        "3.   Noise - Helicopter                       \n",
        "4.   Noise - House of Worship                 \n",
        "5.   Noise - Park                             \n",
        "6.   Noise - Residential                      \n",
        "7.   Noise - Street/Sidewalk                  \n",
        "8.   Noise - Vehicle                          \n",
        "9.   Noise Survey \n",
        "\n",
        "This all could be grouped under a single Complaint Type Noise"
      ],
      "metadata": {
        "id": "sk0cZ1tzaZC1"
      }
    },
    {
      "cell_type": "code",
      "source": [
        "df_311=df_311.withColumn(\"Complaint Type\", regexp_replace(df_311[\"Complaint Type\"],\"Ferry.*\",\"Ferry Complaint\"))\n",
        "df_311=df_311.withColumn(\"Complaint Type\", regexp_replace(df_311[\"Complaint Type\"],\"Highway.*\",\"Highway Complaint\"))\n",
        "df_311=df_311.withColumn(\"Complaint Type\", regexp_replace(df_311[\"Complaint Type\"],\"Noise.*\",\"Noise Complaint\"))\n",
        "df_311=df_311.withColumn(\"Complaint Type\", regexp_replace(df_311[\"Complaint Type\"],\"Taxi.*\",\"Taxi Complaint\"))"
      ],
      "metadata": {
        "id": "Q51hq0UA8bs_"
      },
      "execution_count": null,
      "outputs": []
    },
    {
      "cell_type": "markdown",
      "source": [
        "We also find that there are some duplicate complaints like \n",
        "1.  Derelict Vehicle (10370) and Derelict Vehicles (13706)\n",
        "2.  Animal-Abuse (875) and Animal Abuse (2740)\n",
        "3.  PAINT - PLASTER (17827) and PAINT/PLASTER (20353)\n",
        "\n",
        "\n",
        "We are using KNN cluster algorithm to group them and using the suggested word to replace and standardize it on whole dataset.\n",
        "\n"
      ],
      "metadata": {
        "id": "HwsMacodcFhy"
      }
    },
    {
      "cell_type": "code",
      "source": [
        "complaint_type_dict= {}\n",
        "cluster_dict ={}\n",
        "def perform_knn_cluster(ds,column, using_collision=True, minsize=2, t=0.75):\n",
        "    values = ds.select(column).distinct()\n",
        "    clusters = knn_clusters(values=values, sim=SimilarityConstraint(func=LevenshteinDistance(), pred=GreaterThan(t)), minsize=minsize) \\\n",
        "        if using_collision else knn_collision_clusters(values=values, sim=SimilarityConstraint(func=LevenshteinDistance(), pred=GreaterThan(t)), minsize=minsize)\n",
        "    print('{} clusters of size {} or greater'.format(len(clusters), minsize))\n",
        "    clusters.sort(key=lambda c: len(c), reverse=True)\n",
        "    for i, cluster in enumerate(clusters):\n",
        "        print_cluster(i + 1, cluster)\n",
        "        \n",
        "def print_cluster(cnumber, cluster):\n",
        "    print('Cluster {} (of size {})\\n'.format(cnumber, len(cluster)))\n",
        "    for val, count in cluster.items():\n",
        "        print('{} ({})'.format(val, count))\n",
        "        complaint_type_dict[val] = cnumber\n",
        "    print('\\nSuggested value: {}\\n\\n'.format(cluster.suggestion()))\n",
        "    cluster_dict[cnumber] = cluster.suggestion()\n",
        "\n",
        "perform_knn_cluster(ds,\"Complaint Type\")"
      ],
      "metadata": {
        "id": "bPmTaIgaZyMH"
      },
      "execution_count": null,
      "outputs": []
    },
    {
      "cell_type": "code",
      "source": [
        "complaint_type_dict"
      ],
      "metadata": {
        "id": "Cb5r9ghdhEe6"
      },
      "execution_count": null,
      "outputs": []
    },
    {
      "cell_type": "code",
      "source": [
        "cluster_dict"
      ],
      "metadata": {
        "id": "FRiEcv6NhIuQ"
      },
      "execution_count": null,
      "outputs": []
    },
    {
      "cell_type": "markdown",
      "source": [
        "UDF to update Complaint Type"
      ],
      "metadata": {
        "id": "gn-W7K49gQ-E"
      }
    },
    {
      "cell_type": "code",
      "source": [
        "@udf\n",
        "def update_complaint_type(complaint):\n",
        "    if complaint in complaint_type_dict:\n",
        "      return cluster_dict[complaint_type_dict[complaint]]\n",
        "    return complaint\n",
        "\n",
        "df_311= df_311.withColumnRenamed(\"Complaint Type\",\"Complaint_Type\")\n",
        "df_311= df_311.withColumn(\"Complaint_Type\", update_complaint_type(df_311.Complaint_Type))"
      ],
      "metadata": {
        "id": "IAI3lXHygH3n"
      },
      "execution_count": null,
      "outputs": []
    },
    {
      "cell_type": "markdown",
      "source": [
        "Result"
      ],
      "metadata": {
        "id": "YR2kh8I_jDuR"
      }
    },
    {
      "cell_type": "code",
      "source": [
        "df_311.groupBy(\"Complaint_Type\").count().sort(desc(\"count\")).show(2000, False)"
      ],
      "metadata": {
        "id": "LXSCYGMZg5Da"
      },
      "execution_count": null,
      "outputs": []
    },
    {
      "cell_type": "markdown",
      "source": [
        "### Cleaning INCIDENT ZIP Column"
      ],
      "metadata": {
        "id": "n0zcWG1q3j_K"
      }
    },
    {
      "cell_type": "markdown",
      "source": [
        "Remove all null rows"
      ],
      "metadata": {
        "id": "MjR2qVmEbaig"
      }
    },
    {
      "cell_type": "code",
      "source": [
        "df_311.na.drop(subset=[\"Incident Zip\"]).show()"
      ],
      "metadata": {
        "id": "S8XoTdScxBAB"
      },
      "execution_count": null,
      "outputs": []
    },
    {
      "cell_type": "markdown",
      "source": [
        "Having a look at values of Zip we find many values to be either decimal, alphanumeric or inconsistent length."
      ],
      "metadata": {
        "id": "pXz058oobmKY"
      }
    },
    {
      "cell_type": "code",
      "source": [
        "df_311=df_311.withColumnRenamed(\"Incident Zip\",\"Incident_Zip\")\n",
        "df_311.select(\"Incident_Zip\").distinct().show(50)"
      ],
      "metadata": {
        "id": "GbGgVlnWxLJ6"
      },
      "execution_count": null,
      "outputs": []
    },
    {
      "cell_type": "markdown",
      "source": [
        "Standardizing zip codes to length = 5 and only replacing values if numeric."
      ],
      "metadata": {
        "id": "C9VKghFvdVHy"
      }
    },
    {
      "cell_type": "code",
      "source": [
        "@udf\n",
        "def fill(zip_code):\n",
        "    ''' Function takin zip code as input\n",
        "        checks if zip code is numeric and has 5 digits \n",
        "        returns formated zip code or \"\" \n",
        "    '''\n",
        "    zip_code = str(zip_code).zfill(5)\n",
        "    if not zip_code.isnumeric() :\n",
        "      return \" \"\n",
        "    return zip_code[:5]\n",
        "\n",
        "df_311= df_311.withColumn(\"Incident_Zip\", fill(df_311.Incident_Zip))"
      ],
      "metadata": {
        "id": "_WRcvmMrxWot"
      },
      "execution_count": null,
      "outputs": []
    },
    {
      "cell_type": "markdown",
      "source": [
        "Removing nulls and empty (\" \") zip codes from dataset and since new york zip code ranges from 10001 - 11697 remove any zip code not in this range."
      ],
      "metadata": {
        "id": "82_tUa77delM"
      }
    },
    {
      "cell_type": "code",
      "source": [
        "df_311.createOrReplaceTempView(\"df_311_incident_zip\")\n",
        "df_311= spark.sql('Select * FROM df_311_incident_zip  WHERE Incident_Zip IS NOT NULL AND Incident_Zip <> \" \" AND CAST(Incident_Zip AS int)> 10000 AND CAST(Incident_Zip as int) <= 11697 ')     "
      ],
      "metadata": {
        "id": "Hl3ok5TjzuGv"
      },
      "execution_count": null,
      "outputs": []
    },
    {
      "cell_type": "markdown",
      "source": [
        "Result"
      ],
      "metadata": {
        "id": "6rZH1NGKds1B"
      }
    },
    {
      "cell_type": "code",
      "source": [
        "df_311.select('Incident_Zip').distinct().orderBy(col('Incident_Zip').desc()).show()"
      ],
      "metadata": {
        "id": "7EEQFQIMwlDA"
      },
      "execution_count": null,
      "outputs": []
    },
    {
      "cell_type": "markdown",
      "source": [
        "### Cleaning CITY Column"
      ],
      "metadata": {
        "id": "QZpnFDBW4WUA"
      }
    },
    {
      "cell_type": "markdown",
      "source": [
        "We find that the CASE of city names is inconsistent as seen in below output we have \n",
        "\n",
        "\n",
        "1.   Corona and CORONA\n",
        "2.   Bayside and BAYSIDE\n",
        "\n"
      ],
      "metadata": {
        "id": "pwkLdM3eeUUm"
      }
    },
    {
      "cell_type": "code",
      "source": [
        "df_311.select(\"City\").distinct().show()"
      ],
      "metadata": {
        "id": "ykYNLnOj02YU"
      },
      "execution_count": null,
      "outputs": []
    },
    {
      "cell_type": "markdown",
      "source": [
        "We are normalizing the case and making sure city does not has numeric values"
      ],
      "metadata": {
        "id": "J7gk1jSWetDc"
      }
    },
    {
      "cell_type": "code",
      "source": [
        "@udf\n",
        "def standardize(city_name):\n",
        "  ''' takes city names as input and output in Init caps form if valid city name '''\n",
        "  standard_city_name = str(city_name).strip().capitalize()\n",
        "  if standard_city_name.isnumeric():\n",
        "    return None\n",
        "  return standard_city_name\n",
        "\n",
        "df_311= df_311.withColumn(\"City\", standardize(df_311.City))"
      ],
      "metadata": {
        "id": "qEUu4j_hzO2Q"
      },
      "execution_count": null,
      "outputs": []
    },
    {
      "cell_type": "markdown",
      "source": [
        "Result"
      ],
      "metadata": {
        "id": "gp0VMv6RfcTw"
      }
    },
    {
      "cell_type": "code",
      "source": [
        "df_311.select(\"City\").distinct().show()"
      ],
      "metadata": {
        "id": "fcnrFJQc3FTL"
      },
      "execution_count": null,
      "outputs": []
    },
    {
      "cell_type": "markdown",
      "source": [
        "As a part of initial cleaning of some mispelled city names like Newarkk,BRKLYN.\n",
        "We started with intial startegy of soundex but to our surprise some city names like newark has sam soundex of New York and this would make data rigged."
      ],
      "metadata": {
        "id": "eCWbbUy8kjCE"
      }
    },
    {
      "cell_type": "code",
      "source": [
        "newyork = ds\\\n",
        "    .select('City')\\\n",
        "    .update('City', str.upper)\\\n",
        "    .filter(And(Eval('City', Soundex()) == soundex('NEW YORK'), Col('City') != 'NEW YORK'))\\\n",
        "    .distinct()\n"
      ],
      "metadata": {
        "id": "zEfnvAF0j4g2"
      },
      "execution_count": null,
      "outputs": []
    },
    {
      "cell_type": "markdown",
      "source": [
        "As you see Newarkk soundex ranks highest for 'New York'"
      ],
      "metadata": {
        "id": "qKE4hk73k9qw"
      }
    },
    {
      "cell_type": "code",
      "source": [
        "print('RANK\\tCOUNT\\tNAME')\n",
        "for i, entry in enumerate(newyork.most_common()):\n",
        "    key, count = entry\n",
        "    print('{}.\\t{}\\t{}'.format(i + 1, count, key))"
      ],
      "metadata": {
        "id": "_6fVis6Uj6b-"
      },
      "execution_count": null,
      "outputs": []
    },
    {
      "cell_type": "markdown",
      "source": [
        "Using Functional Dependency b/w City and Zip code to clean city column"
      ],
      "metadata": {
        "id": "7T6AHSYy4myp"
      }
    },
    {
      "cell_type": "markdown",
      "source": [
        "Running the code below we find that a single zip code actually has mutiple city values or missing values which is incorrect."
      ],
      "metadata": {
        "id": "yrUMv_JSgAQF"
      }
    },
    {
      "cell_type": "code",
      "source": [
        "df_311.createOrReplaceTempView(\"df_311_city\")\n",
        "temp = spark.sql('Select Incident_Zip,CITY,Count(*) FROM df_311_city GROUP BY Incident_Zip,City Order by 1 ASC,3 DESC')\n",
        "temp.show()"
      ],
      "metadata": {
        "id": "ZwYNLPRG0EOF"
      },
      "execution_count": null,
      "outputs": []
    },
    {
      "cell_type": "markdown",
      "source": [
        "A simple zip code example with multiple values"
      ],
      "metadata": {
        "id": "rCkvnzco3dE1"
      }
    },
    {
      "cell_type": "code",
      "source": [
        "temp = spark.sql('Select Incident_Zip,City,COUNT(*) FROM df_311_city  WHERE Incident_Zip=\"11368\" Group by Incident_Zip,City Order by 3 DESC ') \n",
        "temp.distinct().show()"
      ],
      "metadata": {
        "id": "QT6e2gOP1kB-"
      },
      "execution_count": null,
      "outputs": []
    },
    {
      "cell_type": "markdown",
      "source": [
        "Since we did not find any open or free dataset which could be used as a lookup for mapping city with zip code, We are trying to make use of our own strategy and assumption which you will also find mostcommon across our other cleaning techniques. \n",
        "\n",
        "As you can see above the frequency of Corona is higher than any other city for zip code 11368 and which is actually the correct mapping. Our assumption is that most of the data is correct and correct values are higher than incorrect values. So our strategy finds out the highest occuring values and replaces all the invalid or low occuring values with highest occuring values.\n"
      ],
      "metadata": {
        "id": "_iB3MYyygLht"
      }
    },
    {
      "cell_type": "code",
      "source": [
        "''' creating ranks based on counts of each city for particular zip code '''\n",
        "ranked_by_zip_city= spark.sql(\" Select Incident_Zip, City ,COUNT(*),ROW_NUMBER() OVER(PARTITION BY Incident_Zip ORDER BY COUNT(*) DESC,Incident_Zip DESC) as rnk FROM df_311_city WHERE Incident_Zip IS NOT NULL GROUP BY Incident_Zip, City ORDER BY 1 ASC,3 DESC \") \n",
        "ranked_by_zip_city.show()"
      ],
      "metadata": {
        "id": "92amRn6l3pW7"
      },
      "execution_count": null,
      "outputs": []
    },
    {
      "cell_type": "markdown",
      "source": [
        "Getting the top ranked(most frequent) city name for each zip code and creating a dictionary with key as zip and value as most frequent city.  "
      ],
      "metadata": {
        "id": "dal17vXBi4V8"
      }
    },
    {
      "cell_type": "code",
      "source": [
        "ranked_by_zip_city.createOrReplaceTempView(\"ranked_by_zip_city\")\n",
        "top_ranked = spark.sql(\" SELECT Incident_Zip,City FROM ranked_by_zip_city WHERE rnk =1 \")\n",
        "\n",
        "data_itr = top_ranked.rdd.toLocalIterator()\n",
        "zip_dicti = {}\n",
        "for row in data_itr:\n",
        "    zip_dicti[row[\"Incident_Zip\"]] = row[\"City\"]"
      ],
      "metadata": {
        "id": "7cyWIkyoPFQ1"
      },
      "execution_count": null,
      "outputs": []
    },
    {
      "cell_type": "markdown",
      "source": [
        "Updating the spark dataframe using the dictionary."
      ],
      "metadata": {
        "id": "V0FqQp2jjIr_"
      }
    },
    {
      "cell_type": "code",
      "source": [
        "@udf\n",
        "\n",
        "def update_city(zip_code):\n",
        "  ''' takes input as zip code and outputs the city the zip code refers to '''\n",
        "  if zip_code in zip_dicti:\n",
        "      return zip_dicti[zip_code]\n",
        "  return \" \" \n",
        "\n",
        "df_311 =df_311.withColumn(\"City\", update_city(df_311.Incident_Zip))\n",
        "df_311.show()"
      ],
      "metadata": {
        "id": "VPbbw_5baa7M"
      },
      "execution_count": null,
      "outputs": []
    },
    {
      "cell_type": "markdown",
      "source": [
        "Result"
      ],
      "metadata": {
        "id": "5kZPp31XjRGv"
      }
    },
    {
      "cell_type": "code",
      "source": [
        "df_311.createOrReplaceTempView('df_311_zip')\n",
        "temp = spark.sql('Select Incident_Zip,City FROM df_311_zip  WHERE Incident_Zip=\"11368\"') \n",
        "temp.distinct().show()"
      ],
      "metadata": {
        "id": "W9AutaFY6HKV"
      },
      "execution_count": null,
      "outputs": []
    },
    {
      "cell_type": "code",
      "source": [
        "df_311.select(\"City\").distinct().orderBy(\"City\").show(100)"
      ],
      "metadata": {
        "id": "IWKDm8AH3zln"
      },
      "execution_count": null,
      "outputs": []
    },
    {
      "cell_type": "markdown",
      "source": [
        "### Cleaning Borough Column"
      ],
      "metadata": {
        "id": "Jy8CKkQz67xF"
      }
    },
    {
      "cell_type": "markdown",
      "source": [
        "Data is preceeded with numeric and followed by Borough"
      ],
      "metadata": {
        "id": "4PH1BOm4ks0N"
      }
    },
    {
      "cell_type": "code",
      "source": [
        "df_311.select(\"Borough\").distinct().show()"
      ],
      "metadata": {
        "id": "J0GChJROkT9z"
      },
      "execution_count": null,
      "outputs": []
    },
    {
      "cell_type": "markdown",
      "source": [
        "We also find some unspecified and null values which can be filled with functional dependancy b/w zip and borough."
      ],
      "metadata": {
        "id": "-2AbCC_Vk1zP"
      }
    },
    {
      "cell_type": "code",
      "source": [
        "temp = spark.sql('Select Incident_Zip,Borough FROM df_311_zip  WHERE Incident_Zip=\"10452\"') \n",
        "temp.distinct().show()"
      ],
      "metadata": {
        "id": "GPZzLFfWfYj5"
      },
      "execution_count": null,
      "outputs": []
    },
    {
      "cell_type": "markdown",
      "source": [
        "In order to clean the numeric and standardize the data we are using a lookup file which has maping between zip and borough."
      ],
      "metadata": {
        "id": "3kvLQ1cMlD-b"
      }
    },
    {
      "cell_type": "code",
      "source": [
        "#using nyc_zip_borough.csv loading master data for lookup\n",
        "\n",
        "boro_df = pd.read_csv(\"nyc_zip_borough.csv\")\n",
        "\n",
        "boro_dict ={}\n",
        "for _, row in boro_df.iterrows():\n",
        "    boro_dict[str(row['zip'])] = str(row['borough'])\n",
        "\n",
        "print(boro_dict)"
      ],
      "metadata": {
        "id": "IcZTwb6dgcU7"
      },
      "execution_count": null,
      "outputs": []
    },
    {
      "cell_type": "markdown",
      "source": [
        "UDF (User Defined function) to update borough based on above dictionary"
      ],
      "metadata": {
        "id": "v47qjuxullQS"
      }
    },
    {
      "cell_type": "code",
      "source": [
        "@udf\n",
        "def update_boro(zip_code):\n",
        "  '''takes zip_code as input and outputs appropriate Borough'''\n",
        "  if zip_code in boro_dict:\n",
        "      return boro_dict[zip_code]\n",
        "  return \" \" \n",
        "df_311 =df_311.withColumn(\"Borough\", update_boro(df_311.Incident_Zip))\n",
        "df_311.select(\"Incident_Zip\",\"Borough\").show()"
      ],
      "metadata": {
        "id": "YRhGgf--gesY"
      },
      "execution_count": null,
      "outputs": []
    },
    {
      "cell_type": "markdown",
      "source": [
        "Result"
      ],
      "metadata": {
        "id": "YYN4e9eLl8SB"
      }
    },
    {
      "cell_type": "code",
      "source": [
        "df_311.createOrReplaceTempView(\"df_311_boro\")\n",
        "temp = spark.sql('Select Incident_Zip,Borough FROM df_311_boro WHERE Incident_Zip=\"10452\"') \n",
        "temp.distinct().show()"
      ],
      "metadata": {
        "id": "2nPjtaCUm_eE"
      },
      "execution_count": null,
      "outputs": []
    },
    {
      "cell_type": "markdown",
      "source": [
        "We find Borough with \"\" because our look data only had \"Queens\",\"Brooklyn\",\"Staten Island\",\"Manhattan\",\"Bronx\" as bourgh but our dataset also has king county and other boroughs so we are going to filter them out."
      ],
      "metadata": {
        "id": "EBS_y3-kBPm8"
      }
    },
    {
      "cell_type": "code",
      "source": [
        "df_311.select('Borough').distinct().show()"
      ],
      "metadata": {
        "id": "W2S3u5EQ6WQN"
      },
      "execution_count": null,
      "outputs": []
    },
    {
      "cell_type": "code",
      "source": [
        "li =[\"Queens\",\"Brooklyn\",\"Staten Island\",\"Manhattan\",\"Bronx\"]\n",
        "df_311=df_311.filter(df_311.Borough.isin(li))\n",
        "df_311.select('Borough').distinct().show()"
      ],
      "metadata": {
        "id": "Iw4fFMXh_Rt7"
      },
      "execution_count": null,
      "outputs": []
    },
    {
      "cell_type": "markdown",
      "source": [
        "###Cleaning INCIDENT_ADRESS , STREET ADDRESS, CROSS STREET 1, CROSS STREET 2"
      ],
      "metadata": {
        "id": "uwF8KYj48bRM"
      }
    },
    {
      "cell_type": "markdown",
      "source": [
        "#### Incident Address"
      ],
      "metadata": {
        "id": "xKojyPO3tUx1"
      }
    },
    {
      "cell_type": "markdown",
      "source": [
        "We are using Key Collison Clustering with default fingerprint key generator for all address types"
      ],
      "metadata": {
        "id": "VuvEJx6CrZG0"
      }
    },
    {
      "cell_type": "code",
      "source": [
        "incident_address = ds.update('Incident Address', str.upper).distinct('Incident Address')\n",
        "clusters = KeyCollision(func=Fingerprint()).clusters(incident_address)"
      ],
      "metadata": {
        "id": "RxBsR6jO4ZWp"
      },
      "execution_count": null,
      "outputs": []
    },
    {
      "cell_type": "markdown",
      "source": [
        "Based on the clusters created we are also generating 2  additonal dictionaries i.e, incident_address_dict and cluster_dict"
      ],
      "metadata": {
        "id": "PPUvcoT4rh1V"
      }
    },
    {
      "cell_type": "code",
      "source": [
        "incident_address_dict = {}\n",
        "cluster_dict = {}\n",
        "def print_k_clusters(clusters):\n",
        "    clusters = sorted(clusters, key=lambda x: len(x), reverse=True)\n",
        "    # val_count = sum([len(c) for c in clusters])\n",
        "    # print('Total number of clusters is {} with {} values'.format(len(clusters), val_count))\n",
        "    for i in range(len(clusters)):\n",
        "        print('\\nCluster {}'.format(i + 1))\n",
        "        temp_dict = {}\n",
        "        for key, cnt in clusters[i].items():\n",
        "          if key == '':\n",
        "            key = \"''\"\n",
        "          print(f'  {key} (x {cnt})')\n",
        "          temp_dict[key] = int(cnt)\n",
        "          cluster_dict[key] = i\n",
        "\n",
        "        incident_address_dict[i] = temp_dict \n",
        "print_k_clusters(clusters)   "
      ],
      "metadata": {
        "id": "l4RMUGtlOKwp"
      },
      "execution_count": null,
      "outputs": []
    },
    {
      "cell_type": "markdown",
      "source": [
        "Incident_address_dict contains a mapping of structure { cluster_number : {street : number of time it got repeated }}"
      ],
      "metadata": {
        "id": "3PD6-irXrwLv"
      }
    },
    {
      "cell_type": "code",
      "source": [
        "incident_address_dict "
      ],
      "metadata": {
        "id": "4j-IGAqeVBul"
      },
      "execution_count": null,
      "outputs": []
    },
    {
      "cell_type": "markdown",
      "source": [
        "Cluster dict is a simple dictionary which maps each street to repsective cluster."
      ],
      "metadata": {
        "id": "zWKzGdOGsFvY"
      }
    },
    {
      "cell_type": "code",
      "source": [
        "cluster_dict"
      ],
      "metadata": {
        "id": "gNlMPOv6Wvh6"
      },
      "execution_count": null,
      "outputs": []
    },
    {
      "cell_type": "markdown",
      "source": [
        "Using the same most frequent strategy we are creating a dictionary from incident_address_dict with key as cluster number and value as most frequent street for that cluster."
      ],
      "metadata": {
        "id": "K5VZCQeksU9_"
      }
    },
    {
      "cell_type": "code",
      "source": [
        "final_addr = {}\n",
        "for key,value in incident_address_dict.items():\n",
        "    final_addr[key] = max(value, key=value.get)\n",
        "\n",
        "print(final_addr)"
      ],
      "metadata": {
        "id": "FoSP9xguW0pL"
      },
      "execution_count": null,
      "outputs": []
    },
    {
      "cell_type": "markdown",
      "source": [
        "UDF to update Incident address "
      ],
      "metadata": {
        "id": "uwbNfWsossYy"
      }
    },
    {
      "cell_type": "code",
      "source": [
        "@udf\n",
        "def update_incident_address(incident_address):\n",
        "    if incident_address in cluster_dict:\n",
        "      return final_addr[cluster_dict[incident_address]]\n",
        "    return \" \"\n",
        "\n",
        "df_311= df_311.withColumnRenamed(\"Incident Address\",\"Incident_Address\")\n",
        "df_311= df_311.withColumn(\"Incident_Address\", update_incident_address(df_311.Incident_Address))\n",
        "\n"
      ],
      "metadata": {
        "id": "LPsw0TAqX6mg"
      },
      "execution_count": null,
      "outputs": []
    },
    {
      "cell_type": "markdown",
      "source": [
        "Positive Case Result"
      ],
      "metadata": {
        "id": "b8I9wFeLs3Tn"
      }
    },
    {
      "cell_type": "code",
      "source": [
        "df_311.createOrReplaceTempView(\"df_data_address\")\n",
        "temp= spark.sql('Select * FROM df_data_address  WHERE Incident_Address =  \"WEST 27 STREET\" ')  \n",
        "temp.show()"
      ],
      "metadata": {
        "id": "Dqh6n1uLZiQJ"
      },
      "execution_count": null,
      "outputs": []
    },
    {
      "cell_type": "markdown",
      "source": [
        "Negative Case Result"
      ],
      "metadata": {
        "id": "mTf66pbis9Bj"
      }
    },
    {
      "cell_type": "code",
      "source": [
        "temp= spark.sql('Select * FROM df_data_address  WHERE Incident_Address =  \"WEST   27 STREET\" ')  \n",
        "temp.show()"
      ],
      "metadata": {
        "id": "GMfk3CxWHBFb"
      },
      "execution_count": null,
      "outputs": []
    },
    {
      "cell_type": "markdown",
      "source": [
        "There can be a possibilty of street name having multple spaces adn being most frequent so below is UDF to remove multiple spaces with a single space."
      ],
      "metadata": {
        "id": "YL0mK7kftANG"
      }
    },
    {
      "cell_type": "code",
      "source": [
        "@udf\n",
        "\n",
        "def replace_with_single_spaces(addr):\n",
        "    return \" \".join(addr.split())"
      ],
      "metadata": {
        "id": "Ouwd0NhWXXoU"
      },
      "execution_count": null,
      "outputs": []
    },
    {
      "cell_type": "code",
      "source": [
        "df_311= df_311.withColumn(\"Incident_Address\", replace_with_single_spaces(df_311.Incident_Address))"
      ],
      "metadata": {
        "id": "7GjcQWZ8YguE"
      },
      "execution_count": null,
      "outputs": []
    },
    {
      "cell_type": "markdown",
      "source": [
        "####Street Name"
      ],
      "metadata": {
        "id": "YB9Kj1YTEFMy"
      }
    },
    {
      "cell_type": "markdown",
      "source": [
        "Similar to Incident Adress"
      ],
      "metadata": {
        "id": "JXxGwxq3tf8J"
      }
    },
    {
      "cell_type": "code",
      "source": [
        "street_names = ds.update('Street Name', str.upper).distinct('Street Name')\n",
        "clusters = KeyCollision(func=Fingerprint(), threads=3).clusters(street_names)"
      ],
      "metadata": {
        "id": "m73YXlwkEHXF"
      },
      "execution_count": null,
      "outputs": []
    },
    {
      "cell_type": "code",
      "source": [
        "street_name_dict = {}\n",
        "cluster_dict = {}\n",
        "def print_k_clusters_and_integrate_sn(clusters):\n",
        "    clusters = sorted(clusters, key=lambda x: len(x), reverse=True)\n",
        "    val_count = sum([len(c) for c in clusters])\n",
        "    print('Total number of clusters is {} with {} values'.format(len(clusters), val_count))\n",
        "    for i in range(len(clusters)):\n",
        "        print('\\nCluster {}'.format(i + 1))\n",
        "        temp_dict = {}\n",
        "        for key, cnt in clusters[i].items():\n",
        "          if key == '':\n",
        "            key = \"''\"\n",
        "          print(f'  {key} (x {cnt})')\n",
        "\n",
        "          temp_dict[key] = int(cnt)\n",
        "          cluster_dict[key] = i\n",
        "        street_name_dict[i] = temp_dict\n",
        "\n",
        "print_k_clusters_and_integrate_sn(clusters)"
      ],
      "metadata": {
        "id": "FsrWvztZErcV"
      },
      "execution_count": null,
      "outputs": []
    },
    {
      "cell_type": "code",
      "source": [
        "final_street = {}\n",
        "for key,value in street_name_dict.items():\n",
        "    final_street[key] = max(value, key=value.get)"
      ],
      "metadata": {
        "id": "XdUynoUAEuth"
      },
      "execution_count": null,
      "outputs": []
    },
    {
      "cell_type": "code",
      "source": [
        "@udf\n",
        "def update_street_name(street_name):\n",
        "    if street_name in cluster_dict:\n",
        "      return final_street[cluster_dict[street_name]]\n",
        "    return \" \"\n",
        "df_311= df_311.withColumnRenamed(\"Street Name\",\"Street_Name\")\n",
        "df_311= df_311.withColumn(\"Street_Name\", update_incident_address(df_311.Street_Name))\n",
        "df_311= df_311.withColumn(\"Street_Name\", replace_with_single_spaces(df_311.Street_Name))"
      ],
      "metadata": {
        "id": "-roOhqnDExML"
      },
      "execution_count": null,
      "outputs": []
    },
    {
      "cell_type": "markdown",
      "source": [
        "####Cross Street 1"
      ],
      "metadata": {
        "id": "E-hXtPN-_mUa"
      }
    },
    {
      "cell_type": "code",
      "source": [
        "cross_street_1 = ds.update('Cross Street 1', str.upper).distinct('Cross Street 1')\n",
        "clusters = KeyCollision(func=Fingerprint(), threads=3).clusters(cross_street_1)"
      ],
      "metadata": {
        "id": "9GN7C_3h_7VE"
      },
      "execution_count": null,
      "outputs": []
    },
    {
      "cell_type": "code",
      "source": [
        "cross_street_1_dict = {}\n",
        "cluster_dict = {}\n",
        "def print_k_clusters_and_integrate_cs1(clusters):\n",
        "    clusters = sorted(clusters, key=lambda x: len(x), reverse=True)\n",
        "    val_count = sum([len(c) for c in clusters])\n",
        "    print('Total number of clusters is {} with {} values'.format(len(clusters), val_count))\n",
        "    for i in range(len(clusters)):\n",
        "        print('\\nCluster {}'.format(i + 1))\n",
        "        temp_dict = {}\n",
        "        for key, cnt in clusters[i].items():\n",
        "          if key == '':\n",
        "            key = \"''\"\n",
        "          print(f'  {key} (x {cnt})')\n",
        "          temp_dict[key] = int(cnt)\n",
        "          cluster_dict[key] = i\n",
        "        cross_street_1_dict[i] = temp_dict\n",
        "\n",
        "print_k_clusters_and_integrate_cs1(clusters)"
      ],
      "metadata": {
        "id": "65GORxIB_-pc"
      },
      "execution_count": null,
      "outputs": []
    },
    {
      "cell_type": "code",
      "source": [
        "final_cs1 = {}\n",
        "for key,value in cross_street_1_dict.items():\n",
        "    final_cs1[key] = max(value, key=value.get)"
      ],
      "metadata": {
        "id": "LY1Q2pekAEQy"
      },
      "execution_count": null,
      "outputs": []
    },
    {
      "cell_type": "code",
      "source": [
        "@udf\n",
        "\n",
        "def update_cross_street_1(street_name):\n",
        "    if street_name in cluster_dict:\n",
        "      return final_cs1[cluster_dict[street_name]]\n",
        "    return \" \"\n",
        "df_311= df_311.withColumnRenamed(\"Cross Street 1\",\"Cross_Street_1\")\n",
        "df_311= df_311.withColumn(\"Cross_Street_1\", update_cross_street_1(df_311.Cross_Street_1))\n",
        "df_311= df_311.withColumn(\"Cross_Street_1\", replace_with_single_spaces(df_311.Cross_Street_1))"
      ],
      "metadata": {
        "id": "njfH0XarAHHn"
      },
      "execution_count": null,
      "outputs": []
    },
    {
      "cell_type": "markdown",
      "source": [
        "#### Cross Street 2"
      ],
      "metadata": {
        "id": "4WWkI7rVA4cI"
      }
    },
    {
      "cell_type": "code",
      "source": [
        "cross_street_2 = ds.update('Cross Street 2', str.upper).distinct('Cross Street 2')\n",
        "clusters = KeyCollision(func=Fingerprint(), threads=3).clusters(cross_street_2)"
      ],
      "metadata": {
        "id": "WuK5bpYSA6-i"
      },
      "execution_count": null,
      "outputs": []
    },
    {
      "cell_type": "code",
      "source": [
        "cross_street_2_dict = {}\n",
        "cluster_dict = {}\n",
        "def print_k_clusters_and_integrate_cs2(clusters):\n",
        "    clusters = sorted(clusters, key=lambda x: len(x), reverse=True)\n",
        "    val_count = sum([len(c) for c in clusters])\n",
        "    print('Total number of clusters is {} with {} values'.format(len(clusters), val_count))\n",
        "    for i in range(len(clusters)):\n",
        "        print('\\nCluster {}'.format(i + 1))\n",
        "        temp_dict = {}\n",
        "        for key, cnt in clusters[i].items():\n",
        "          if key == '':\n",
        "            key = \"''\"\n",
        "          print(f'  {key} (x {cnt})')\n",
        "\n",
        "          temp_dict[key] = int(cnt)\n",
        "          cluster_dict[key] = i\n",
        "        cross_street_2_dict[i] = temp_dict\n",
        "\n",
        "print_k_clusters_and_integrate_cs2(clusters)"
      ],
      "metadata": {
        "id": "TajXRm6iClCK"
      },
      "execution_count": null,
      "outputs": []
    },
    {
      "cell_type": "code",
      "source": [
        "final_cs2 = {}\n",
        "for key,value in cross_street_2_dict.items():\n",
        "    final_cs2[key] = max(value, key=value.get)"
      ],
      "metadata": {
        "id": "W7RQjXSwC9De"
      },
      "execution_count": null,
      "outputs": []
    },
    {
      "cell_type": "code",
      "source": [
        "@udf\n",
        "\n",
        "def update_cross_street_2(street_name):\n",
        "    if street_name in cluster_dict:\n",
        "      return final_cs2[cluster_dict[street_name]]\n",
        "    return \" \"\n",
        "df_311= df_311.withColumnRenamed(\"Cross Street 2\",\"Cross_Street_2\")\n",
        "df_311= df_311.withColumn(\"Cross_Street_2\", update_cross_street_2(df_311.Cross_Street_2))\n",
        "df_311= df_311.withColumn(\"Cross_Street_1\", replace_with_single_spaces(df_311.Cross_Street_1))"
      ],
      "metadata": {
        "id": "zRqb6vuRDEZq"
      },
      "execution_count": null,
      "outputs": []
    },
    {
      "cell_type": "markdown",
      "source": [
        "### Cleaning Longitude and Latitude"
      ],
      "metadata": {
        "id": "-lK-uWeJDVdQ"
      }
    },
    {
      "cell_type": "code",
      "source": [
        "df_311.na.drop(subset=[\"Longitude\",\"Latitude\"]).show()"
      ],
      "metadata": {
        "id": "ueAosnjoD3kO"
      },
      "execution_count": null,
      "outputs": []
    },
    {
      "cell_type": "code",
      "source": [
        "df_311.select(\"Longitude\").distinct().show(50)"
      ],
      "metadata": {
        "id": "qrJ5xhpku0I9"
      },
      "execution_count": null,
      "outputs": []
    },
    {
      "cell_type": "code",
      "source": [
        "df_311.select(\"Latitude\").distinct().show(50)"
      ],
      "metadata": {
        "id": "5I5bFz_rvWNd"
      },
      "execution_count": null,
      "outputs": []
    },
    {
      "cell_type": "markdown",
      "source": [
        "Checking for outliers, we find no outliers "
      ],
      "metadata": {
        "id": "vA5yvRS5vQz3"
      }
    },
    {
      "cell_type": "code",
      "source": [
        "df_311[['Latitude','Longitude']].summary().show()"
      ],
      "metadata": {
        "id": "a6TjiRmyDXI3"
      },
      "execution_count": null,
      "outputs": []
    },
    {
      "cell_type": "markdown",
      "source": [
        "We Find no Function Dependancy Violations between (latittude,Longitude) -> Borough indicating the data is bynow already it's in purest form."
      ],
      "metadata": {
        "id": "NR6X3Rj9BZSl"
      }
    },
    {
      "cell_type": "code",
      "source": [
        "df100k = df_311.limit(10000)\n",
        "df = df100k.toPandas()\n",
        "boro_violations = fd_violations(df, ['Longitude', 'Latitude'],['Borough'])\n",
        "print('# of violations for Longitude, Latitude -> Borough is {}\\n'.format(len(boro_violations)))\n",
        "for key, gr in boro_violations.items():\n",
        "  print(gr[['Longitude', 'Latitude','Borough']])"
      ],
      "metadata": {
        "id": "RIt5obcq92TN"
      },
      "execution_count": null,
      "outputs": []
    },
    {
      "cell_type": "markdown",
      "source": [
        "###Save to a file"
      ],
      "metadata": {
        "id": "Co7UiTqZDwF8"
      }
    },
    {
      "cell_type": "code",
      "source": [
        "df_311.write.format(\"csv\").save(\"cleaned_data\")"
      ],
      "metadata": {
        "id": "c2mKtJgeD1h9"
      },
      "execution_count": null,
      "outputs": []
    },
    {
      "cell_type": "code",
      "source": [
        "df_311.coalesce(1)\n",
        "      .write\n",
        "      .option(\"header\",\"true\")\n",
        "      .option(\"sep\",\",\")\n",
        "      .mode(\"overwrite\")\n",
        "      .csv(\"cleaned_data\")\n"
      ],
      "metadata": {
        "id": "yrNamG7q-L4b"
      },
      "execution_count": null,
      "outputs": []
    },
    {
      "cell_type": "code",
      "source": [
        "df_311.printSchema()\n"
      ],
      "metadata": {
        "id": "Po2c71ig_xBk",
        "outputId": "084dc0f2-1109-4c46-b49e-571b01c97574",
        "colab": {
          "base_uri": "https://localhost:8080/"
        }
      },
      "execution_count": null,
      "outputs": [
        {
          "output_type": "stream",
          "name": "stdout",
          "text": [
            "root\n",
            " |-- Unique Key: string (nullable = true)\n",
            " |-- Created Date: string (nullable = true)\n",
            " |-- Closed Date: string (nullable = true)\n",
            " |-- Agency: string (nullable = true)\n",
            " |-- Agency Name: string (nullable = true)\n",
            " |-- Complaint Type: string (nullable = true)\n",
            " |-- Descriptor: string (nullable = true)\n",
            " |-- Location Type: string (nullable = true)\n",
            " |-- Incident Zip: string (nullable = true)\n",
            " |-- Incident Address: string (nullable = true)\n",
            " |-- Street Name: string (nullable = true)\n",
            " |-- Cross Street 1: string (nullable = true)\n",
            " |-- Cross Street 2: string (nullable = true)\n",
            " |-- Address Type: string (nullable = true)\n",
            " |-- City: string (nullable = true)\n",
            " |-- Status: string (nullable = true)\n",
            " |-- Resolution Description: string (nullable = true)\n",
            " |-- Resolution Action Updated Date: string (nullable = true)\n",
            " |-- Community Board: string (nullable = true)\n",
            " |-- BBL: string (nullable = true)\n",
            " |-- Borough: string (nullable = true)\n",
            " |-- X Coordinate (State Plane): string (nullable = true)\n",
            " |-- Y Coordinate (State Plane): string (nullable = true)\n",
            " |-- Open Data Channel Type: string (nullable = true)\n",
            " |-- Latitude: string (nullable = true)\n",
            " |-- Longitude: string (nullable = true)\n",
            "\n"
          ]
        }
      ]
    }
  ]
}